{
 "cells": [
  {
   "cell_type": "code",
   "execution_count": 1,
   "id": "7ec24ad4-400e-4e23-8842-b11593f6e02b",
   "metadata": {},
   "outputs": [],
   "source": [
    "## Analyse identified co-eQTLs with decision tree"
   ]
  },
  {
   "cell_type": "markdown",
   "id": "4eb52e36-42bb-4cea-b6ad-1f7ee78210ad",
   "metadata": {},
   "source": [
    "# Libraries"
   ]
  },
  {
   "cell_type": "code",
   "execution_count": 2,
   "id": "5bfab938-3f61-4936-82bd-8568a82b6952",
   "metadata": {},
   "outputs": [],
   "source": [
    "import anndata as ad\n",
    "import numpy as np\n",
    "import pandas as pd\n",
    "import scanpy as sc\n",
    "from matplotlib import pyplot as plt\n",
    "from scipy.sparse import issparse"
   ]
  },
  {
   "cell_type": "code",
   "execution_count": 3,
   "id": "524522cf-848e-4779-be5c-ddfcf94ee24b",
   "metadata": {},
   "outputs": [],
   "source": [
    "import math"
   ]
  },
  {
   "cell_type": "code",
   "execution_count": 4,
   "id": "5c7b2fb3-e155-49cc-8b69-6c1bcc489376",
   "metadata": {},
   "outputs": [],
   "source": [
    "import os"
   ]
  },
  {
   "cell_type": "code",
   "execution_count": 5,
   "id": "bc275727-f82e-4148-b927-847b5e37b445",
   "metadata": {},
   "outputs": [],
   "source": [
    "from sklearn.metrics import mean_squared_error"
   ]
  },
  {
   "cell_type": "code",
   "execution_count": 6,
   "id": "8c03429a-b901-43f0-abca-838c92088b04",
   "metadata": {},
   "outputs": [],
   "source": [
    "import scipy.stats as stats\n",
    "import numpy as np"
   ]
  },
  {
   "cell_type": "code",
   "execution_count": 7,
   "id": "145f4a0c-d545-487e-a304-578d98dd4411",
   "metadata": {},
   "outputs": [],
   "source": [
    "from sklearn.tree import DecisionTreeClassifier\n",
    "from sklearn.metrics import accuracy_score\n",
    "from sklearn.metrics import confusion_matrix\n",
    "from sklearn.datasets import load_iris\n",
    "from sklearn.model_selection import train_test_split\n",
    "from sklearn.utils import Bunch\n",
    "from sklearn.tree import plot_tree\n",
    "from sklearn.feature_selection import mutual_info_classif\n",
    "import pandas as pd \n",
    "import numpy as np"
   ]
  },
  {
   "cell_type": "code",
   "execution_count": 8,
   "id": "102e30fd-4e75-4279-be15-0d2f21de0adf",
   "metadata": {},
   "outputs": [],
   "source": [
    "import random"
   ]
  },
  {
   "cell_type": "code",
   "execution_count": 9,
   "id": "ef141d8a-58ad-4bc4-8dcc-d7345f305a5d",
   "metadata": {},
   "outputs": [],
   "source": [
    "# import the regressor \n",
    "from sklearn.tree import DecisionTreeRegressor "
   ]
  },
  {
   "cell_type": "code",
   "execution_count": 10,
   "id": "b62083b6-1232-4c4d-87cc-c843dbf62252",
   "metadata": {},
   "outputs": [],
   "source": [
    "import seaborn as sns"
   ]
  },
  {
   "cell_type": "code",
   "execution_count": 11,
   "id": "b5057973-a68b-44fd-8558-8b93aa938c34",
   "metadata": {},
   "outputs": [],
   "source": [
    "import gzip"
   ]
  },
  {
   "cell_type": "markdown",
   "id": "226fbc6a-de52-4e7f-999a-f8fff9c97148",
   "metadata": {
    "tags": []
   },
   "source": [
    "# Parameters"
   ]
  },
  {
   "cell_type": "code",
   "execution_count": 12,
   "id": "eb96062e-fd44-4caa-be3a-cc527fbacbf3",
   "metadata": {},
   "outputs": [],
   "source": [
    "### Dataset"
   ]
  },
  {
   "cell_type": "code",
   "execution_count": 13,
   "id": "4b96aba7-0e24-4a7f-833f-4dd2d913ba34",
   "metadata": {},
   "outputs": [],
   "source": [
    "dataset = 'oneK1k'"
   ]
  },
  {
   "cell_type": "code",
   "execution_count": 14,
   "id": "81531ba9-4a3c-4427-b6b4-ce690ed85467",
   "metadata": {},
   "outputs": [],
   "source": [
    "cell_type = 'CD4_T'"
   ]
  },
  {
   "cell_type": "code",
   "execution_count": 15,
   "id": "21b2aa56-43af-44c8-95b3-04554c7644d2",
   "metadata": {},
   "outputs": [],
   "source": [
    "dataset_saved = 'oneK1K'"
   ]
  },
  {
   "cell_type": "code",
   "execution_count": 16,
   "id": "dcded96d-6895-421a-b8ff-914efd953595",
   "metadata": {
    "tags": []
   },
   "outputs": [],
   "source": [
    "### Path to the co-EQTL Files"
   ]
  },
  {
   "cell_type": "code",
   "execution_count": 17,
   "id": "98b8f545-a782-46b1-9b88-4bb1576efad1",
   "metadata": {},
   "outputs": [],
   "source": [
    "data_path = '../data/current/coeqtl_mapping/co_qtls_sceqtlgen/'"
   ]
  },
  {
   "cell_type": "code",
   "execution_count": 18,
   "id": "406e32f0-5b73-4df7-b3eb-5aea10df0a5f",
   "metadata": {},
   "outputs": [],
   "source": [
    "## Path to the meta-data"
   ]
  },
  {
   "cell_type": "code",
   "execution_count": 19,
   "id": "1f401d1c-0907-49dd-87bd-70cb0ff52366",
   "metadata": {},
   "outputs": [],
   "source": [
    "data_path_meta = '../data/current/meta-data'"
   ]
  },
  {
   "cell_type": "code",
   "execution_count": 20,
   "id": "57afa0bf-a89b-4543-9cf9-c1f79222c07a",
   "metadata": {},
   "outputs": [],
   "source": [
    "data_path_summary_stats = '../data/current/summary_stats/'\n",
    "\n",
    "## Files: Sample_gene_statistic  (info about genes on sample level)\n",
    "#         Sample_summary (information about samples)\n",
    "#         Sample_cell statistic"
   ]
  },
  {
   "cell_type": "code",
   "execution_count": 21,
   "id": "d98d038f-c0ee-4435-98bd-118c07cb6d94",
   "metadata": {},
   "outputs": [],
   "source": [
    "result_path_analysis = \"../data/current/coeqtl_mapping/co_qtls_sceqtlgen/analysis_\" + dataset + '/' + cell_type + '/' "
   ]
  },
  {
   "cell_type": "code",
   "execution_count": 22,
   "id": "139e83de-bcbd-4678-a784-de094b67ac7a",
   "metadata": {},
   "outputs": [],
   "source": [
    "## P-Thres for identifying co-eQTL (TBD: improve bonferrroni)"
   ]
  },
  {
   "cell_type": "code",
   "execution_count": 23,
   "id": "6fac3061-053a-4234-827e-81fb68c61188",
   "metadata": {},
   "outputs": [],
   "source": [
    "p_val_column = 'p_value'\n",
    "# p_value; q_val\n",
    "\n",
    "## Use q_val for all other datasets than 1K1K"
   ]
  },
  {
   "cell_type": "code",
   "execution_count": 24,
   "id": "b449c611-54b9-48c5-bfdf-4ac277c86841",
   "metadata": {},
   "outputs": [],
   "source": [
    "if p_val_column == 'q_val':\n",
    "    p_thres = 0.05\n",
    "\n",
    "if (cell_type ==  'CD4_T') & (p_val_column == 'p_value'):\n",
    "    p_thres= 0.05/31497753\n",
    "    \n",
    "if (cell_type == 'B') & (p_val_column == 'p_value'):\n",
    "    p_thres = 0.05/39015906  \n",
    "    \n",
    "#0.05/31497753   ;  # Bonferonni correction; CD4T\n",
    "# 0.05/39015906   # Bonferonni correction; B"
   ]
  },
  {
   "cell_type": "code",
   "execution_count": 25,
   "id": "695f1044-65e3-40f3-9136-98dae68fd727",
   "metadata": {},
   "outputs": [],
   "source": [
    "filter_rb_mt =True   # define whether to filter out ribosomal and mitochondrial genes before training tree"
   ]
  },
  {
   "cell_type": "code",
   "execution_count": 26,
   "id": "624ee401-717b-4bff-a66a-961f7d1617ef",
   "metadata": {},
   "outputs": [],
   "source": [
    "type_sum_stats = 'data' # use expression summary stats based on normalized or raw data"
   ]
  },
  {
   "cell_type": "markdown",
   "id": "15964977-05c1-4a4e-940d-85207135c8fb",
   "metadata": {},
   "source": [
    "# Data"
   ]
  },
  {
   "cell_type": "markdown",
   "id": "e54b51f1-38cc-49ed-8250-0c78c981a68c",
   "metadata": {},
   "source": [
    "## Co-EQTL identification"
   ]
  },
  {
   "cell_type": "code",
   "execution_count": 27,
   "id": "876005b9-9a93-4d59-bdb7-e6ef72918c99",
   "metadata": {
    "tags": []
   },
   "outputs": [],
   "source": [
    "coeQTLs = pd.read_csv(data_path + dataset_saved + \"/\" + cell_type + \"/\" + 'F3_decision_tree_input_n.csv')\n",
    "\n",
    "#F3_decision_tree_input_n"
   ]
  },
  {
   "cell_type": "code",
   "execution_count": 28,
   "id": "76044abb-6b52-4ea8-b606-7a4963b919f1",
   "metadata": {},
   "outputs": [
    {
     "data": {
      "text/html": [
       "<div>\n",
       "<style scoped>\n",
       "    .dataframe tbody tr th:only-of-type {\n",
       "        vertical-align: middle;\n",
       "    }\n",
       "\n",
       "    .dataframe tbody tr th {\n",
       "        vertical-align: top;\n",
       "    }\n",
       "\n",
       "    .dataframe thead th {\n",
       "        text-align: right;\n",
       "    }\n",
       "</style>\n",
       "<table border=\"1\" class=\"dataframe\">\n",
       "  <thead>\n",
       "    <tr style=\"text-align: right;\">\n",
       "      <th></th>\n",
       "      <th>Unnamed: 0</th>\n",
       "      <th>cell_type</th>\n",
       "      <th>dataset</th>\n",
       "      <th>feature_id</th>\n",
       "      <th>snp_id</th>\n",
       "      <th>beta</th>\n",
       "      <th>feature_chromosome</th>\n",
       "      <th>feature_end</th>\n",
       "      <th>feature_start</th>\n",
       "      <th>p_value</th>\n",
       "      <th>beta_se</th>\n",
       "      <th>gene2</th>\n",
       "      <th>gene1</th>\n",
       "      <th>amount_tests_datasets</th>\n",
       "      <th>p_val_corrected</th>\n",
       "      <th>p_val_lfdr</th>\n",
       "      <th>q_val</th>\n",
       "    </tr>\n",
       "  </thead>\n",
       "  <tbody>\n",
       "    <tr>\n",
       "      <th>0</th>\n",
       "      <td>1</td>\n",
       "      <td>CD4_T</td>\n",
       "      <td>oneK1K</td>\n",
       "      <td>A1BG-AS1_AASS</td>\n",
       "      <td>19:58355068:G:A</td>\n",
       "      <td>-0.056400</td>\n",
       "      <td>19</td>\n",
       "      <td>58355183</td>\n",
       "      <td>58347751</td>\n",
       "      <td>0.612550</td>\n",
       "      <td>NaN</td>\n",
       "      <td>AASS</td>\n",
       "      <td>A1BG-AS1</td>\n",
       "      <td>31497753</td>\n",
       "      <td>0.991382</td>\n",
       "      <td>0.997565</td>\n",
       "      <td>0.976243</td>\n",
       "    </tr>\n",
       "    <tr>\n",
       "      <th>1</th>\n",
       "      <td>2</td>\n",
       "      <td>CD4_T</td>\n",
       "      <td>oneK1K</td>\n",
       "      <td>A1BG-AS1_AASS</td>\n",
       "      <td>7:122023523:T:TTA</td>\n",
       "      <td>-0.050328</td>\n",
       "      <td>7</td>\n",
       "      <td>122144280</td>\n",
       "      <td>122075647</td>\n",
       "      <td>0.651385</td>\n",
       "      <td>NaN</td>\n",
       "      <td>AASS</td>\n",
       "      <td>A1BG-AS1</td>\n",
       "      <td>31497753</td>\n",
       "      <td>0.992673</td>\n",
       "      <td>0.997710</td>\n",
       "      <td>0.977514</td>\n",
       "    </tr>\n",
       "    <tr>\n",
       "      <th>2</th>\n",
       "      <td>3</td>\n",
       "      <td>CD4_T</td>\n",
       "      <td>oneK1K</td>\n",
       "      <td>A1BG-AS1_ABCA1</td>\n",
       "      <td>19:58355068:G:A</td>\n",
       "      <td>-0.007532</td>\n",
       "      <td>19</td>\n",
       "      <td>58355183</td>\n",
       "      <td>58347751</td>\n",
       "      <td>0.920512</td>\n",
       "      <td>NaN</td>\n",
       "      <td>ABCA1</td>\n",
       "      <td>A1BG-AS1</td>\n",
       "      <td>31497753</td>\n",
       "      <td>0.998731</td>\n",
       "      <td>1.000000</td>\n",
       "      <td>0.983480</td>\n",
       "    </tr>\n",
       "    <tr>\n",
       "      <th>3</th>\n",
       "      <td>4</td>\n",
       "      <td>CD4_T</td>\n",
       "      <td>oneK1K</td>\n",
       "      <td>A1BG-AS1_ABCA1</td>\n",
       "      <td>9:104923850:A:G</td>\n",
       "      <td>-0.010463</td>\n",
       "      <td>9</td>\n",
       "      <td>104928237</td>\n",
       "      <td>104781002</td>\n",
       "      <td>0.889754</td>\n",
       "      <td>NaN</td>\n",
       "      <td>ABCA1</td>\n",
       "      <td>A1BG-AS1</td>\n",
       "      <td>31497753</td>\n",
       "      <td>0.998178</td>\n",
       "      <td>1.000000</td>\n",
       "      <td>0.982936</td>\n",
       "    </tr>\n",
       "    <tr>\n",
       "      <th>4</th>\n",
       "      <td>5</td>\n",
       "      <td>CD4_T</td>\n",
       "      <td>oneK1K</td>\n",
       "      <td>A1BG-AS1_ABCA1</td>\n",
       "      <td>9:104934731:T:C</td>\n",
       "      <td>0.096131</td>\n",
       "      <td>9</td>\n",
       "      <td>104928237</td>\n",
       "      <td>104781002</td>\n",
       "      <td>0.201791</td>\n",
       "      <td>NaN</td>\n",
       "      <td>ABCA1</td>\n",
       "      <td>A1BG-AS1</td>\n",
       "      <td>31497753</td>\n",
       "      <td>0.965108</td>\n",
       "      <td>0.977768</td>\n",
       "      <td>0.950371</td>\n",
       "    </tr>\n",
       "    <tr>\n",
       "      <th>...</th>\n",
       "      <td>...</td>\n",
       "      <td>...</td>\n",
       "      <td>...</td>\n",
       "      <td>...</td>\n",
       "      <td>...</td>\n",
       "      <td>...</td>\n",
       "      <td>...</td>\n",
       "      <td>...</td>\n",
       "      <td>...</td>\n",
       "      <td>...</td>\n",
       "      <td>...</td>\n",
       "      <td>...</td>\n",
       "      <td>...</td>\n",
       "      <td>...</td>\n",
       "      <td>...</td>\n",
       "      <td>...</td>\n",
       "      <td>...</td>\n",
       "    </tr>\n",
       "    <tr>\n",
       "      <th>31497748</th>\n",
       "      <td>31497749</td>\n",
       "      <td>CD4_T</td>\n",
       "      <td>oneK1K</td>\n",
       "      <td>ZXDC_ZYG11B</td>\n",
       "      <td>3:126168798:A:G</td>\n",
       "      <td>-0.037423</td>\n",
       "      <td>3</td>\n",
       "      <td>126475919</td>\n",
       "      <td>126437601</td>\n",
       "      <td>0.242786</td>\n",
       "      <td>NaN</td>\n",
       "      <td>ZYG11B</td>\n",
       "      <td>ZXDC</td>\n",
       "      <td>31497753</td>\n",
       "      <td>0.970158</td>\n",
       "      <td>0.981550</td>\n",
       "      <td>0.955343</td>\n",
       "    </tr>\n",
       "    <tr>\n",
       "      <th>31497749</th>\n",
       "      <td>31497750</td>\n",
       "      <td>CD4_T</td>\n",
       "      <td>oneK1K</td>\n",
       "      <td>ZXDC_ZYG11B</td>\n",
       "      <td>3:126479414:ATC:A</td>\n",
       "      <td>-0.028699</td>\n",
       "      <td>3</td>\n",
       "      <td>126475919</td>\n",
       "      <td>126437601</td>\n",
       "      <td>0.370452</td>\n",
       "      <td>NaN</td>\n",
       "      <td>ZYG11B</td>\n",
       "      <td>ZXDC</td>\n",
       "      <td>31497753</td>\n",
       "      <td>0.980444</td>\n",
       "      <td>0.989702</td>\n",
       "      <td>0.965472</td>\n",
       "    </tr>\n",
       "    <tr>\n",
       "      <th>31497750</th>\n",
       "      <td>31497751</td>\n",
       "      <td>CD4_T</td>\n",
       "      <td>oneK1K</td>\n",
       "      <td>ZXDC_ZYX</td>\n",
       "      <td>3:126168798:A:G</td>\n",
       "      <td>-0.012530</td>\n",
       "      <td>3</td>\n",
       "      <td>126475919</td>\n",
       "      <td>126437601</td>\n",
       "      <td>0.693168</td>\n",
       "      <td>NaN</td>\n",
       "      <td>ZYX</td>\n",
       "      <td>ZXDC</td>\n",
       "      <td>31497753</td>\n",
       "      <td>0.993743</td>\n",
       "      <td>0.997710</td>\n",
       "      <td>0.978568</td>\n",
       "    </tr>\n",
       "    <tr>\n",
       "      <th>31497751</th>\n",
       "      <td>31497752</td>\n",
       "      <td>CD4_T</td>\n",
       "      <td>oneK1K</td>\n",
       "      <td>ZXDC_ZYX</td>\n",
       "      <td>3:126479414:ATC:A</td>\n",
       "      <td>0.039789</td>\n",
       "      <td>3</td>\n",
       "      <td>126475919</td>\n",
       "      <td>126437601</td>\n",
       "      <td>0.210069</td>\n",
       "      <td>NaN</td>\n",
       "      <td>ZYX</td>\n",
       "      <td>ZXDC</td>\n",
       "      <td>31497753</td>\n",
       "      <td>0.966229</td>\n",
       "      <td>0.978784</td>\n",
       "      <td>0.951475</td>\n",
       "    </tr>\n",
       "    <tr>\n",
       "      <th>31497752</th>\n",
       "      <td>31497753</td>\n",
       "      <td>CD4_T</td>\n",
       "      <td>oneK1K</td>\n",
       "      <td>ZXDC_ZYX</td>\n",
       "      <td>7:143444382:T:C</td>\n",
       "      <td>-0.016615</td>\n",
       "      <td>7</td>\n",
       "      <td>143391111</td>\n",
       "      <td>143381080</td>\n",
       "      <td>0.600818</td>\n",
       "      <td>NaN</td>\n",
       "      <td>ZYX</td>\n",
       "      <td>ZXDC</td>\n",
       "      <td>31497753</td>\n",
       "      <td>0.990935</td>\n",
       "      <td>0.997210</td>\n",
       "      <td>0.975803</td>\n",
       "    </tr>\n",
       "  </tbody>\n",
       "</table>\n",
       "<p>31497753 rows × 17 columns</p>\n",
       "</div>"
      ],
      "text/plain": [
       "          Unnamed: 0 cell_type dataset      feature_id             snp_id  \\\n",
       "0                  1     CD4_T  oneK1K   A1BG-AS1_AASS    19:58355068:G:A   \n",
       "1                  2     CD4_T  oneK1K   A1BG-AS1_AASS  7:122023523:T:TTA   \n",
       "2                  3     CD4_T  oneK1K  A1BG-AS1_ABCA1    19:58355068:G:A   \n",
       "3                  4     CD4_T  oneK1K  A1BG-AS1_ABCA1    9:104923850:A:G   \n",
       "4                  5     CD4_T  oneK1K  A1BG-AS1_ABCA1    9:104934731:T:C   \n",
       "...              ...       ...     ...             ...                ...   \n",
       "31497748    31497749     CD4_T  oneK1K     ZXDC_ZYG11B    3:126168798:A:G   \n",
       "31497749    31497750     CD4_T  oneK1K     ZXDC_ZYG11B  3:126479414:ATC:A   \n",
       "31497750    31497751     CD4_T  oneK1K        ZXDC_ZYX    3:126168798:A:G   \n",
       "31497751    31497752     CD4_T  oneK1K        ZXDC_ZYX  3:126479414:ATC:A   \n",
       "31497752    31497753     CD4_T  oneK1K        ZXDC_ZYX    7:143444382:T:C   \n",
       "\n",
       "              beta  feature_chromosome  feature_end  feature_start   p_value  \\\n",
       "0        -0.056400                  19     58355183       58347751  0.612550   \n",
       "1        -0.050328                   7    122144280      122075647  0.651385   \n",
       "2        -0.007532                  19     58355183       58347751  0.920512   \n",
       "3        -0.010463                   9    104928237      104781002  0.889754   \n",
       "4         0.096131                   9    104928237      104781002  0.201791   \n",
       "...            ...                 ...          ...            ...       ...   \n",
       "31497748 -0.037423                   3    126475919      126437601  0.242786   \n",
       "31497749 -0.028699                   3    126475919      126437601  0.370452   \n",
       "31497750 -0.012530                   3    126475919      126437601  0.693168   \n",
       "31497751  0.039789                   3    126475919      126437601  0.210069   \n",
       "31497752 -0.016615                   7    143391111      143381080  0.600818   \n",
       "\n",
       "          beta_se   gene2     gene1  amount_tests_datasets  p_val_corrected  \\\n",
       "0             NaN    AASS  A1BG-AS1               31497753         0.991382   \n",
       "1             NaN    AASS  A1BG-AS1               31497753         0.992673   \n",
       "2             NaN   ABCA1  A1BG-AS1               31497753         0.998731   \n",
       "3             NaN   ABCA1  A1BG-AS1               31497753         0.998178   \n",
       "4             NaN   ABCA1  A1BG-AS1               31497753         0.965108   \n",
       "...           ...     ...       ...                    ...              ...   \n",
       "31497748      NaN  ZYG11B      ZXDC               31497753         0.970158   \n",
       "31497749      NaN  ZYG11B      ZXDC               31497753         0.980444   \n",
       "31497750      NaN     ZYX      ZXDC               31497753         0.993743   \n",
       "31497751      NaN     ZYX      ZXDC               31497753         0.966229   \n",
       "31497752      NaN     ZYX      ZXDC               31497753         0.990935   \n",
       "\n",
       "          p_val_lfdr     q_val  \n",
       "0           0.997565  0.976243  \n",
       "1           0.997710  0.977514  \n",
       "2           1.000000  0.983480  \n",
       "3           1.000000  0.982936  \n",
       "4           0.977768  0.950371  \n",
       "...              ...       ...  \n",
       "31497748    0.981550  0.955343  \n",
       "31497749    0.989702  0.965472  \n",
       "31497750    0.997710  0.978568  \n",
       "31497751    0.978784  0.951475  \n",
       "31497752    0.997210  0.975803  \n",
       "\n",
       "[31497753 rows x 17 columns]"
      ]
     },
     "execution_count": 28,
     "metadata": {},
     "output_type": "execute_result"
    }
   ],
   "source": [
    "coeQTLs"
   ]
  },
  {
   "cell_type": "code",
   "execution_count": 29,
   "id": "a0aae230-9897-4914-a69f-c8d1d2338769",
   "metadata": {},
   "outputs": [
    {
     "data": {
      "text/plain": [
       "Index(['Unnamed: 0', 'cell_type', 'dataset', 'feature_id', 'snp_id', 'beta',\n",
       "       'feature_chromosome', 'feature_end', 'feature_start', 'p_value',\n",
       "       'beta_se', 'gene2', 'gene1', 'amount_tests_datasets', 'p_val_corrected',\n",
       "       'p_val_lfdr', 'q_val'],\n",
       "      dtype='object')"
      ]
     },
     "execution_count": 29,
     "metadata": {},
     "output_type": "execute_result"
    }
   ],
   "source": [
    "coeQTLs.columns"
   ]
  },
  {
   "cell_type": "code",
   "execution_count": 30,
   "id": "49ab6c37-71a8-446d-9d8d-e24030c7b64d",
   "metadata": {},
   "outputs": [
    {
     "data": {
      "text/plain": [
       "8648490"
      ]
     },
     "execution_count": 30,
     "metadata": {},
     "output_type": "execute_result"
    }
   ],
   "source": [
    "len(pd.unique(coeQTLs['feature_id']))"
   ]
  },
  {
   "cell_type": "code",
   "execution_count": 31,
   "id": "48911725-1410-4814-ad6d-199ab1275d4c",
   "metadata": {},
   "outputs": [
    {
     "name": "stderr",
     "output_type": "stream",
     "text": [
      "/tmp/ipykernel_2045421/3202930142.py:3: SettingWithCopyWarning: \n",
      "A value is trying to be set on a copy of a slice from a DataFrame.\n",
      "Try using .loc[row_indexer,col_indexer] = value instead\n",
      "\n",
      "See the caveats in the documentation: https://pandas.pydata.org/pandas-docs/stable/user_guide/indexing.html#returning-a-view-versus-a-copy\n",
      "  ordering['seq'] = ordering.index\n"
     ]
    }
   ],
   "source": [
    "### save ordering to later always have the same ordering for the input\n",
    "ordering = coeQTLs[['feature_id', 'snp_id']]\n",
    "ordering['seq'] = ordering.index"
   ]
  },
  {
   "cell_type": "code",
   "execution_count": null,
   "id": "dc059af5-c44f-4166-9c62-a74b701fb2a5",
   "metadata": {},
   "outputs": [],
   "source": []
  },
  {
   "cell_type": "markdown",
   "id": "bcc013df-1e45-4cf8-9092-1d71d5505c4d",
   "metadata": {},
   "source": [
    "## Information about eGene/ co-eGenes"
   ]
  },
  {
   "cell_type": "code",
   "execution_count": 32,
   "id": "3c3f6907-5ba5-47d3-a4e2-3115388961a8",
   "metadata": {},
   "outputs": [],
   "source": [
    "snp_gene_mapping = pd.read_csv(data_path + 'gene_snp_ref.tsv', sep = '\\t')"
   ]
  },
  {
   "cell_type": "code",
   "execution_count": 33,
   "id": "2577b213-e938-49af-9635-1d45e874b7d1",
   "metadata": {},
   "outputs": [
    {
     "data": {
      "text/html": [
       "<div>\n",
       "<style scoped>\n",
       "    .dataframe tbody tr th:only-of-type {\n",
       "        vertical-align: middle;\n",
       "    }\n",
       "\n",
       "    .dataframe tbody tr th {\n",
       "        vertical-align: top;\n",
       "    }\n",
       "\n",
       "    .dataframe thead th {\n",
       "        text-align: right;\n",
       "    }\n",
       "</style>\n",
       "<table border=\"1\" class=\"dataframe\">\n",
       "  <thead>\n",
       "    <tr style=\"text-align: right;\">\n",
       "      <th></th>\n",
       "      <th>gene</th>\n",
       "      <th>snp</th>\n",
       "    </tr>\n",
       "  </thead>\n",
       "  <tbody>\n",
       "    <tr>\n",
       "      <th>0</th>\n",
       "      <td>A1BG-AS1</td>\n",
       "      <td>19:58355068:G:A</td>\n",
       "    </tr>\n",
       "    <tr>\n",
       "      <th>1</th>\n",
       "      <td>A1BG</td>\n",
       "      <td>19:58355068:G:A</td>\n",
       "    </tr>\n",
       "    <tr>\n",
       "      <th>2</th>\n",
       "      <td>A1BG</td>\n",
       "      <td>19:58357814:C:A</td>\n",
       "    </tr>\n",
       "    <tr>\n",
       "      <th>3</th>\n",
       "      <td>A1BG</td>\n",
       "      <td>19:58406208:G:A</td>\n",
       "    </tr>\n",
       "    <tr>\n",
       "      <th>4</th>\n",
       "      <td>A1BG</td>\n",
       "      <td>19:58501017:TTTAA:T</td>\n",
       "    </tr>\n",
       "    <tr>\n",
       "      <th>...</th>\n",
       "      <td>...</td>\n",
       "      <td>...</td>\n",
       "    </tr>\n",
       "    <tr>\n",
       "      <th>12646</th>\n",
       "      <td>ZXDC</td>\n",
       "      <td>3:126168798:A:G</td>\n",
       "    </tr>\n",
       "    <tr>\n",
       "      <th>12647</th>\n",
       "      <td>ZXDC</td>\n",
       "      <td>3:126479414:ATC:A</td>\n",
       "    </tr>\n",
       "    <tr>\n",
       "      <th>12648</th>\n",
       "      <td>ZYG11B</td>\n",
       "      <td>1:52698548:C:T</td>\n",
       "    </tr>\n",
       "    <tr>\n",
       "      <th>12649</th>\n",
       "      <td>ZYX</td>\n",
       "      <td>7:143444382:T:C</td>\n",
       "    </tr>\n",
       "    <tr>\n",
       "      <th>12650</th>\n",
       "      <td>ZZEF1</td>\n",
       "      <td>17:4243752:T:C</td>\n",
       "    </tr>\n",
       "  </tbody>\n",
       "</table>\n",
       "<p>12651 rows × 2 columns</p>\n",
       "</div>"
      ],
      "text/plain": [
       "           gene                  snp\n",
       "0      A1BG-AS1      19:58355068:G:A\n",
       "1          A1BG      19:58355068:G:A\n",
       "2          A1BG      19:58357814:C:A\n",
       "3          A1BG      19:58406208:G:A\n",
       "4          A1BG  19:58501017:TTTAA:T\n",
       "...         ...                  ...\n",
       "12646      ZXDC      3:126168798:A:G\n",
       "12647      ZXDC    3:126479414:ATC:A\n",
       "12648    ZYG11B       1:52698548:C:T\n",
       "12649       ZYX      7:143444382:T:C\n",
       "12650     ZZEF1       17:4243752:T:C\n",
       "\n",
       "[12651 rows x 2 columns]"
      ]
     },
     "execution_count": 33,
     "metadata": {},
     "output_type": "execute_result"
    }
   ],
   "source": [
    "snp_gene_mapping"
   ]
  },
  {
   "cell_type": "code",
   "execution_count": 34,
   "id": "cca26efc-4f27-4506-8ea3-48518cee3a5b",
   "metadata": {},
   "outputs": [],
   "source": [
    "snp_gene_mapping['is_egene'] = 1"
   ]
  },
  {
   "cell_type": "code",
   "execution_count": 35,
   "id": "1f92d3f0-e4e4-419b-ab80-b6b42dc0dce0",
   "metadata": {},
   "outputs": [],
   "source": [
    "### Define eGene for all co-egene pairs"
   ]
  },
  {
   "cell_type": "code",
   "execution_count": 36,
   "id": "0156886d-ddf7-46d5-a0dd-f981e474db9b",
   "metadata": {},
   "outputs": [],
   "source": [
    "coeQTLs = pd.merge(coeQTLs, snp_gene_mapping, left_on = ['snp_id', 'gene1'], right_on = ['snp', 'gene'], how = 'left')"
   ]
  },
  {
   "cell_type": "code",
   "execution_count": 37,
   "id": "d6bfb455-f320-4294-9c05-170e6249ad22",
   "metadata": {},
   "outputs": [],
   "source": [
    "coeQTLs = pd.merge(coeQTLs, snp_gene_mapping, left_on = ['snp_id', 'gene2'], right_on = ['snp', 'gene'], how = 'left')"
   ]
  },
  {
   "cell_type": "code",
   "execution_count": 38,
   "id": "a3186322-0112-4a4f-a480-a089cef28fc6",
   "metadata": {},
   "outputs": [
    {
     "data": {
      "text/html": [
       "<div>\n",
       "<style scoped>\n",
       "    .dataframe tbody tr th:only-of-type {\n",
       "        vertical-align: middle;\n",
       "    }\n",
       "\n",
       "    .dataframe tbody tr th {\n",
       "        vertical-align: top;\n",
       "    }\n",
       "\n",
       "    .dataframe thead th {\n",
       "        text-align: right;\n",
       "    }\n",
       "</style>\n",
       "<table border=\"1\" class=\"dataframe\">\n",
       "  <thead>\n",
       "    <tr style=\"text-align: right;\">\n",
       "      <th></th>\n",
       "      <th>Unnamed: 0</th>\n",
       "      <th>cell_type</th>\n",
       "      <th>dataset</th>\n",
       "      <th>feature_id</th>\n",
       "      <th>snp_id</th>\n",
       "      <th>beta</th>\n",
       "      <th>feature_chromosome</th>\n",
       "      <th>feature_end</th>\n",
       "      <th>feature_start</th>\n",
       "      <th>p_value</th>\n",
       "      <th>...</th>\n",
       "      <th>amount_tests_datasets</th>\n",
       "      <th>p_val_corrected</th>\n",
       "      <th>p_val_lfdr</th>\n",
       "      <th>q_val</th>\n",
       "      <th>gene_x</th>\n",
       "      <th>snp_x</th>\n",
       "      <th>is_egene_x</th>\n",
       "      <th>gene_y</th>\n",
       "      <th>snp_y</th>\n",
       "      <th>is_egene_y</th>\n",
       "    </tr>\n",
       "  </thead>\n",
       "  <tbody>\n",
       "    <tr>\n",
       "      <th>0</th>\n",
       "      <td>1</td>\n",
       "      <td>CD4_T</td>\n",
       "      <td>oneK1K</td>\n",
       "      <td>A1BG-AS1_AASS</td>\n",
       "      <td>19:58355068:G:A</td>\n",
       "      <td>-0.056400</td>\n",
       "      <td>19</td>\n",
       "      <td>58355183</td>\n",
       "      <td>58347751</td>\n",
       "      <td>0.612550</td>\n",
       "      <td>...</td>\n",
       "      <td>31497753</td>\n",
       "      <td>0.991382</td>\n",
       "      <td>0.997565</td>\n",
       "      <td>0.976243</td>\n",
       "      <td>A1BG-AS1</td>\n",
       "      <td>19:58355068:G:A</td>\n",
       "      <td>1.0</td>\n",
       "      <td>NaN</td>\n",
       "      <td>NaN</td>\n",
       "      <td>NaN</td>\n",
       "    </tr>\n",
       "    <tr>\n",
       "      <th>1</th>\n",
       "      <td>2</td>\n",
       "      <td>CD4_T</td>\n",
       "      <td>oneK1K</td>\n",
       "      <td>A1BG-AS1_AASS</td>\n",
       "      <td>7:122023523:T:TTA</td>\n",
       "      <td>-0.050328</td>\n",
       "      <td>7</td>\n",
       "      <td>122144280</td>\n",
       "      <td>122075647</td>\n",
       "      <td>0.651385</td>\n",
       "      <td>...</td>\n",
       "      <td>31497753</td>\n",
       "      <td>0.992673</td>\n",
       "      <td>0.997710</td>\n",
       "      <td>0.977514</td>\n",
       "      <td>NaN</td>\n",
       "      <td>NaN</td>\n",
       "      <td>NaN</td>\n",
       "      <td>AASS</td>\n",
       "      <td>7:122023523:T:TTA</td>\n",
       "      <td>1.0</td>\n",
       "    </tr>\n",
       "    <tr>\n",
       "      <th>2</th>\n",
       "      <td>3</td>\n",
       "      <td>CD4_T</td>\n",
       "      <td>oneK1K</td>\n",
       "      <td>A1BG-AS1_ABCA1</td>\n",
       "      <td>19:58355068:G:A</td>\n",
       "      <td>-0.007532</td>\n",
       "      <td>19</td>\n",
       "      <td>58355183</td>\n",
       "      <td>58347751</td>\n",
       "      <td>0.920512</td>\n",
       "      <td>...</td>\n",
       "      <td>31497753</td>\n",
       "      <td>0.998731</td>\n",
       "      <td>1.000000</td>\n",
       "      <td>0.983480</td>\n",
       "      <td>A1BG-AS1</td>\n",
       "      <td>19:58355068:G:A</td>\n",
       "      <td>1.0</td>\n",
       "      <td>NaN</td>\n",
       "      <td>NaN</td>\n",
       "      <td>NaN</td>\n",
       "    </tr>\n",
       "    <tr>\n",
       "      <th>3</th>\n",
       "      <td>4</td>\n",
       "      <td>CD4_T</td>\n",
       "      <td>oneK1K</td>\n",
       "      <td>A1BG-AS1_ABCA1</td>\n",
       "      <td>9:104923850:A:G</td>\n",
       "      <td>-0.010463</td>\n",
       "      <td>9</td>\n",
       "      <td>104928237</td>\n",
       "      <td>104781002</td>\n",
       "      <td>0.889754</td>\n",
       "      <td>...</td>\n",
       "      <td>31497753</td>\n",
       "      <td>0.998178</td>\n",
       "      <td>1.000000</td>\n",
       "      <td>0.982936</td>\n",
       "      <td>NaN</td>\n",
       "      <td>NaN</td>\n",
       "      <td>NaN</td>\n",
       "      <td>ABCA1</td>\n",
       "      <td>9:104923850:A:G</td>\n",
       "      <td>1.0</td>\n",
       "    </tr>\n",
       "    <tr>\n",
       "      <th>4</th>\n",
       "      <td>5</td>\n",
       "      <td>CD4_T</td>\n",
       "      <td>oneK1K</td>\n",
       "      <td>A1BG-AS1_ABCA1</td>\n",
       "      <td>9:104934731:T:C</td>\n",
       "      <td>0.096131</td>\n",
       "      <td>9</td>\n",
       "      <td>104928237</td>\n",
       "      <td>104781002</td>\n",
       "      <td>0.201791</td>\n",
       "      <td>...</td>\n",
       "      <td>31497753</td>\n",
       "      <td>0.965108</td>\n",
       "      <td>0.977768</td>\n",
       "      <td>0.950371</td>\n",
       "      <td>NaN</td>\n",
       "      <td>NaN</td>\n",
       "      <td>NaN</td>\n",
       "      <td>ABCA1</td>\n",
       "      <td>9:104934731:T:C</td>\n",
       "      <td>1.0</td>\n",
       "    </tr>\n",
       "    <tr>\n",
       "      <th>...</th>\n",
       "      <td>...</td>\n",
       "      <td>...</td>\n",
       "      <td>...</td>\n",
       "      <td>...</td>\n",
       "      <td>...</td>\n",
       "      <td>...</td>\n",
       "      <td>...</td>\n",
       "      <td>...</td>\n",
       "      <td>...</td>\n",
       "      <td>...</td>\n",
       "      <td>...</td>\n",
       "      <td>...</td>\n",
       "      <td>...</td>\n",
       "      <td>...</td>\n",
       "      <td>...</td>\n",
       "      <td>...</td>\n",
       "      <td>...</td>\n",
       "      <td>...</td>\n",
       "      <td>...</td>\n",
       "      <td>...</td>\n",
       "      <td>...</td>\n",
       "    </tr>\n",
       "    <tr>\n",
       "      <th>31497748</th>\n",
       "      <td>31497749</td>\n",
       "      <td>CD4_T</td>\n",
       "      <td>oneK1K</td>\n",
       "      <td>ZXDC_ZYG11B</td>\n",
       "      <td>3:126168798:A:G</td>\n",
       "      <td>-0.037423</td>\n",
       "      <td>3</td>\n",
       "      <td>126475919</td>\n",
       "      <td>126437601</td>\n",
       "      <td>0.242786</td>\n",
       "      <td>...</td>\n",
       "      <td>31497753</td>\n",
       "      <td>0.970158</td>\n",
       "      <td>0.981550</td>\n",
       "      <td>0.955343</td>\n",
       "      <td>ZXDC</td>\n",
       "      <td>3:126168798:A:G</td>\n",
       "      <td>1.0</td>\n",
       "      <td>NaN</td>\n",
       "      <td>NaN</td>\n",
       "      <td>NaN</td>\n",
       "    </tr>\n",
       "    <tr>\n",
       "      <th>31497749</th>\n",
       "      <td>31497750</td>\n",
       "      <td>CD4_T</td>\n",
       "      <td>oneK1K</td>\n",
       "      <td>ZXDC_ZYG11B</td>\n",
       "      <td>3:126479414:ATC:A</td>\n",
       "      <td>-0.028699</td>\n",
       "      <td>3</td>\n",
       "      <td>126475919</td>\n",
       "      <td>126437601</td>\n",
       "      <td>0.370452</td>\n",
       "      <td>...</td>\n",
       "      <td>31497753</td>\n",
       "      <td>0.980444</td>\n",
       "      <td>0.989702</td>\n",
       "      <td>0.965472</td>\n",
       "      <td>ZXDC</td>\n",
       "      <td>3:126479414:ATC:A</td>\n",
       "      <td>1.0</td>\n",
       "      <td>NaN</td>\n",
       "      <td>NaN</td>\n",
       "      <td>NaN</td>\n",
       "    </tr>\n",
       "    <tr>\n",
       "      <th>31497750</th>\n",
       "      <td>31497751</td>\n",
       "      <td>CD4_T</td>\n",
       "      <td>oneK1K</td>\n",
       "      <td>ZXDC_ZYX</td>\n",
       "      <td>3:126168798:A:G</td>\n",
       "      <td>-0.012530</td>\n",
       "      <td>3</td>\n",
       "      <td>126475919</td>\n",
       "      <td>126437601</td>\n",
       "      <td>0.693168</td>\n",
       "      <td>...</td>\n",
       "      <td>31497753</td>\n",
       "      <td>0.993743</td>\n",
       "      <td>0.997710</td>\n",
       "      <td>0.978568</td>\n",
       "      <td>ZXDC</td>\n",
       "      <td>3:126168798:A:G</td>\n",
       "      <td>1.0</td>\n",
       "      <td>NaN</td>\n",
       "      <td>NaN</td>\n",
       "      <td>NaN</td>\n",
       "    </tr>\n",
       "    <tr>\n",
       "      <th>31497751</th>\n",
       "      <td>31497752</td>\n",
       "      <td>CD4_T</td>\n",
       "      <td>oneK1K</td>\n",
       "      <td>ZXDC_ZYX</td>\n",
       "      <td>3:126479414:ATC:A</td>\n",
       "      <td>0.039789</td>\n",
       "      <td>3</td>\n",
       "      <td>126475919</td>\n",
       "      <td>126437601</td>\n",
       "      <td>0.210069</td>\n",
       "      <td>...</td>\n",
       "      <td>31497753</td>\n",
       "      <td>0.966229</td>\n",
       "      <td>0.978784</td>\n",
       "      <td>0.951475</td>\n",
       "      <td>ZXDC</td>\n",
       "      <td>3:126479414:ATC:A</td>\n",
       "      <td>1.0</td>\n",
       "      <td>NaN</td>\n",
       "      <td>NaN</td>\n",
       "      <td>NaN</td>\n",
       "    </tr>\n",
       "    <tr>\n",
       "      <th>31497752</th>\n",
       "      <td>31497753</td>\n",
       "      <td>CD4_T</td>\n",
       "      <td>oneK1K</td>\n",
       "      <td>ZXDC_ZYX</td>\n",
       "      <td>7:143444382:T:C</td>\n",
       "      <td>-0.016615</td>\n",
       "      <td>7</td>\n",
       "      <td>143391111</td>\n",
       "      <td>143381080</td>\n",
       "      <td>0.600818</td>\n",
       "      <td>...</td>\n",
       "      <td>31497753</td>\n",
       "      <td>0.990935</td>\n",
       "      <td>0.997210</td>\n",
       "      <td>0.975803</td>\n",
       "      <td>NaN</td>\n",
       "      <td>NaN</td>\n",
       "      <td>NaN</td>\n",
       "      <td>ZYX</td>\n",
       "      <td>7:143444382:T:C</td>\n",
       "      <td>1.0</td>\n",
       "    </tr>\n",
       "  </tbody>\n",
       "</table>\n",
       "<p>31497753 rows × 23 columns</p>\n",
       "</div>"
      ],
      "text/plain": [
       "          Unnamed: 0 cell_type dataset      feature_id             snp_id  \\\n",
       "0                  1     CD4_T  oneK1K   A1BG-AS1_AASS    19:58355068:G:A   \n",
       "1                  2     CD4_T  oneK1K   A1BG-AS1_AASS  7:122023523:T:TTA   \n",
       "2                  3     CD4_T  oneK1K  A1BG-AS1_ABCA1    19:58355068:G:A   \n",
       "3                  4     CD4_T  oneK1K  A1BG-AS1_ABCA1    9:104923850:A:G   \n",
       "4                  5     CD4_T  oneK1K  A1BG-AS1_ABCA1    9:104934731:T:C   \n",
       "...              ...       ...     ...             ...                ...   \n",
       "31497748    31497749     CD4_T  oneK1K     ZXDC_ZYG11B    3:126168798:A:G   \n",
       "31497749    31497750     CD4_T  oneK1K     ZXDC_ZYG11B  3:126479414:ATC:A   \n",
       "31497750    31497751     CD4_T  oneK1K        ZXDC_ZYX    3:126168798:A:G   \n",
       "31497751    31497752     CD4_T  oneK1K        ZXDC_ZYX  3:126479414:ATC:A   \n",
       "31497752    31497753     CD4_T  oneK1K        ZXDC_ZYX    7:143444382:T:C   \n",
       "\n",
       "              beta  feature_chromosome  feature_end  feature_start   p_value  \\\n",
       "0        -0.056400                  19     58355183       58347751  0.612550   \n",
       "1        -0.050328                   7    122144280      122075647  0.651385   \n",
       "2        -0.007532                  19     58355183       58347751  0.920512   \n",
       "3        -0.010463                   9    104928237      104781002  0.889754   \n",
       "4         0.096131                   9    104928237      104781002  0.201791   \n",
       "...            ...                 ...          ...            ...       ...   \n",
       "31497748 -0.037423                   3    126475919      126437601  0.242786   \n",
       "31497749 -0.028699                   3    126475919      126437601  0.370452   \n",
       "31497750 -0.012530                   3    126475919      126437601  0.693168   \n",
       "31497751  0.039789                   3    126475919      126437601  0.210069   \n",
       "31497752 -0.016615                   7    143391111      143381080  0.600818   \n",
       "\n",
       "          ...  amount_tests_datasets p_val_corrected p_val_lfdr     q_val  \\\n",
       "0         ...               31497753        0.991382   0.997565  0.976243   \n",
       "1         ...               31497753        0.992673   0.997710  0.977514   \n",
       "2         ...               31497753        0.998731   1.000000  0.983480   \n",
       "3         ...               31497753        0.998178   1.000000  0.982936   \n",
       "4         ...               31497753        0.965108   0.977768  0.950371   \n",
       "...       ...                    ...             ...        ...       ...   \n",
       "31497748  ...               31497753        0.970158   0.981550  0.955343   \n",
       "31497749  ...               31497753        0.980444   0.989702  0.965472   \n",
       "31497750  ...               31497753        0.993743   0.997710  0.978568   \n",
       "31497751  ...               31497753        0.966229   0.978784  0.951475   \n",
       "31497752  ...               31497753        0.990935   0.997210  0.975803   \n",
       "\n",
       "            gene_x              snp_x  is_egene_x gene_y              snp_y  \\\n",
       "0         A1BG-AS1    19:58355068:G:A         1.0    NaN                NaN   \n",
       "1              NaN                NaN         NaN   AASS  7:122023523:T:TTA   \n",
       "2         A1BG-AS1    19:58355068:G:A         1.0    NaN                NaN   \n",
       "3              NaN                NaN         NaN  ABCA1    9:104923850:A:G   \n",
       "4              NaN                NaN         NaN  ABCA1    9:104934731:T:C   \n",
       "...            ...                ...         ...    ...                ...   \n",
       "31497748      ZXDC    3:126168798:A:G         1.0    NaN                NaN   \n",
       "31497749      ZXDC  3:126479414:ATC:A         1.0    NaN                NaN   \n",
       "31497750      ZXDC    3:126168798:A:G         1.0    NaN                NaN   \n",
       "31497751      ZXDC  3:126479414:ATC:A         1.0    NaN                NaN   \n",
       "31497752       NaN                NaN         NaN    ZYX    7:143444382:T:C   \n",
       "\n",
       "          is_egene_y  \n",
       "0                NaN  \n",
       "1                1.0  \n",
       "2                NaN  \n",
       "3                1.0  \n",
       "4                1.0  \n",
       "...              ...  \n",
       "31497748         NaN  \n",
       "31497749         NaN  \n",
       "31497750         NaN  \n",
       "31497751         NaN  \n",
       "31497752         1.0  \n",
       "\n",
       "[31497753 rows x 23 columns]"
      ]
     },
     "execution_count": 38,
     "metadata": {},
     "output_type": "execute_result"
    }
   ],
   "source": [
    "coeQTLs"
   ]
  },
  {
   "cell_type": "code",
   "execution_count": 39,
   "id": "8c007756-d9de-4358-87d8-f289975fcdfa",
   "metadata": {},
   "outputs": [
    {
     "name": "stderr",
     "output_type": "stream",
     "text": [
      "/tmp/ipykernel_2045421/2383517384.py:2: FutureWarning: ChainedAssignmentError: behaviour will change in pandas 3.0!\n",
      "You are setting values through chained assignment. Currently this works in certain cases, but when using Copy-on-Write (which will become the default behaviour in pandas 3.0) this will never work to update the original DataFrame or Series, because the intermediate object on which we are setting values will behave as a copy.\n",
      "A typical example is when you are setting values in a column of a DataFrame, like:\n",
      "\n",
      "df[\"col\"][row_indexer] = value\n",
      "\n",
      "Use `df.loc[row_indexer, \"col\"] = values` instead, to perform the assignment in a single step and ensure this keeps updating the original `df`.\n",
      "\n",
      "See the caveats in the documentation: https://pandas.pydata.org/pandas-docs/stable/user_guide/indexing.html#returning-a-view-versus-a-copy\n",
      "\n",
      "  coeQTLs['egene'][coeQTLs['is_egene_x'] == 1] = coeQTLs['gene1'][coeQTLs['is_egene_x'] == 1]\n",
      "/tmp/ipykernel_2045421/2383517384.py:2: SettingWithCopyWarning: \n",
      "A value is trying to be set on a copy of a slice from a DataFrame\n",
      "\n",
      "See the caveats in the documentation: https://pandas.pydata.org/pandas-docs/stable/user_guide/indexing.html#returning-a-view-versus-a-copy\n",
      "  coeQTLs['egene'][coeQTLs['is_egene_x'] == 1] = coeQTLs['gene1'][coeQTLs['is_egene_x'] == 1]\n",
      "/tmp/ipykernel_2045421/2383517384.py:3: FutureWarning: ChainedAssignmentError: behaviour will change in pandas 3.0!\n",
      "You are setting values through chained assignment. Currently this works in certain cases, but when using Copy-on-Write (which will become the default behaviour in pandas 3.0) this will never work to update the original DataFrame or Series, because the intermediate object on which we are setting values will behave as a copy.\n",
      "A typical example is when you are setting values in a column of a DataFrame, like:\n",
      "\n",
      "df[\"col\"][row_indexer] = value\n",
      "\n",
      "Use `df.loc[row_indexer, \"col\"] = values` instead, to perform the assignment in a single step and ensure this keeps updating the original `df`.\n",
      "\n",
      "See the caveats in the documentation: https://pandas.pydata.org/pandas-docs/stable/user_guide/indexing.html#returning-a-view-versus-a-copy\n",
      "\n",
      "  coeQTLs['egene'][coeQTLs['is_egene_y'] == 1] = coeQTLs['gene2'][coeQTLs['is_egene_y'] == 1]\n",
      "/tmp/ipykernel_2045421/2383517384.py:3: SettingWithCopyWarning: \n",
      "A value is trying to be set on a copy of a slice from a DataFrame\n",
      "\n",
      "See the caveats in the documentation: https://pandas.pydata.org/pandas-docs/stable/user_guide/indexing.html#returning-a-view-versus-a-copy\n",
      "  coeQTLs['egene'][coeQTLs['is_egene_y'] == 1] = coeQTLs['gene2'][coeQTLs['is_egene_y'] == 1]\n"
     ]
    }
   ],
   "source": [
    "coeQTLs['egene'] = ''\n",
    "coeQTLs['egene'][coeQTLs['is_egene_x'] == 1] = coeQTLs['gene1'][coeQTLs['is_egene_x'] == 1] \n",
    "coeQTLs['egene'][coeQTLs['is_egene_y'] == 1] = coeQTLs['gene2'][coeQTLs['is_egene_y'] == 1] "
   ]
  },
  {
   "cell_type": "code",
   "execution_count": 40,
   "id": "2aabb524-7dcc-49a9-8b29-8ae5cd7cb2d8",
   "metadata": {},
   "outputs": [
    {
     "data": {
      "text/plain": [
       "610"
      ]
     },
     "execution_count": 40,
     "metadata": {},
     "output_type": "execute_result"
    }
   ],
   "source": [
    "len(pd.unique(coeQTLs[(coeQTLs['egene'] == 'RPS26') & ((coeQTLs['q_val'] < 0.05))]['feature_id']))   # short check of correct mapping"
   ]
  },
  {
   "cell_type": "code",
   "execution_count": null,
   "id": "723b14d4-8203-44ce-b65b-8d0b3e7bb4de",
   "metadata": {},
   "outputs": [],
   "source": []
  },
  {
   "cell_type": "markdown",
   "id": "5aa661cc-f0a3-41cc-992d-573b26861bca",
   "metadata": {},
   "source": [
    "## Ribosomal and mitochondrial genes"
   ]
  },
  {
   "cell_type": "code",
   "execution_count": 41,
   "id": "63e9dbc5-f942-4060-bc92-baafcc03bbb6",
   "metadata": {},
   "outputs": [],
   "source": [
    "ribosomal_genes = pd.read_csv(data_path_meta + '/ribosomal_genes.txt.gz', sep = '\\t')"
   ]
  },
  {
   "cell_type": "code",
   "execution_count": 42,
   "id": "08148a66-31dd-4d3d-b6c2-c8863e806f68",
   "metadata": {},
   "outputs": [
    {
     "data": {
      "text/html": [
       "<div>\n",
       "<style scoped>\n",
       "    .dataframe tbody tr th:only-of-type {\n",
       "        vertical-align: middle;\n",
       "    }\n",
       "\n",
       "    .dataframe tbody tr th {\n",
       "        vertical-align: top;\n",
       "    }\n",
       "\n",
       "    .dataframe thead th {\n",
       "        text-align: right;\n",
       "    }\n",
       "</style>\n",
       "<table border=\"1\" class=\"dataframe\">\n",
       "  <thead>\n",
       "    <tr style=\"text-align: right;\">\n",
       "      <th></th>\n",
       "      <th>Gene stable ID</th>\n",
       "      <th>Transcript stable ID</th>\n",
       "      <th>Gene name</th>\n",
       "      <th>Gene start (bp)</th>\n",
       "      <th>Gene end (bp)</th>\n",
       "      <th>Chromosome/scaffold name</th>\n",
       "      <th>Gene Synonym</th>\n",
       "    </tr>\n",
       "  </thead>\n",
       "  <tbody>\n",
       "    <tr>\n",
       "      <th>0</th>\n",
       "      <td>ENSG00000164163</td>\n",
       "      <td>ENST00000296577</td>\n",
       "      <td>ABCE1</td>\n",
       "      <td>145098288</td>\n",
       "      <td>145129524</td>\n",
       "      <td>4</td>\n",
       "      <td>OABP</td>\n",
       "    </tr>\n",
       "    <tr>\n",
       "      <th>1</th>\n",
       "      <td>ENSG00000164163</td>\n",
       "      <td>ENST00000296577</td>\n",
       "      <td>ABCE1</td>\n",
       "      <td>145098288</td>\n",
       "      <td>145129524</td>\n",
       "      <td>4</td>\n",
       "      <td>RLI</td>\n",
       "    </tr>\n",
       "    <tr>\n",
       "      <th>2</th>\n",
       "      <td>ENSG00000164163</td>\n",
       "      <td>ENST00000296577</td>\n",
       "      <td>ABCE1</td>\n",
       "      <td>145098288</td>\n",
       "      <td>145129524</td>\n",
       "      <td>4</td>\n",
       "      <td>RLI1</td>\n",
       "    </tr>\n",
       "    <tr>\n",
       "      <th>3</th>\n",
       "      <td>ENSG00000164163</td>\n",
       "      <td>ENST00000296577</td>\n",
       "      <td>ABCE1</td>\n",
       "      <td>145098288</td>\n",
       "      <td>145129524</td>\n",
       "      <td>4</td>\n",
       "      <td>RNASEL1</td>\n",
       "    </tr>\n",
       "    <tr>\n",
       "      <th>4</th>\n",
       "      <td>ENSG00000164163</td>\n",
       "      <td>ENST00000296577</td>\n",
       "      <td>ABCE1</td>\n",
       "      <td>145098288</td>\n",
       "      <td>145129524</td>\n",
       "      <td>4</td>\n",
       "      <td>RNASELI</td>\n",
       "    </tr>\n",
       "    <tr>\n",
       "      <th>...</th>\n",
       "      <td>...</td>\n",
       "      <td>...</td>\n",
       "      <td>...</td>\n",
       "      <td>...</td>\n",
       "      <td>...</td>\n",
       "      <td>...</td>\n",
       "      <td>...</td>\n",
       "    </tr>\n",
       "    <tr>\n",
       "      <th>3614</th>\n",
       "      <td>ENSG00000285626</td>\n",
       "      <td>ENST00000649180</td>\n",
       "      <td>5S_rRNA</td>\n",
       "      <td>11561661</td>\n",
       "      <td>11561779</td>\n",
       "      <td>2</td>\n",
       "      <td>NaN</td>\n",
       "    </tr>\n",
       "    <tr>\n",
       "      <th>3615</th>\n",
       "      <td>ENSG00000266472</td>\n",
       "      <td>ENST00000614145</td>\n",
       "      <td>MRPS21</td>\n",
       "      <td>150293861</td>\n",
       "      <td>150308979</td>\n",
       "      <td>1</td>\n",
       "      <td>NaN</td>\n",
       "    </tr>\n",
       "    <tr>\n",
       "      <th>3616</th>\n",
       "      <td>ENSG00000266472</td>\n",
       "      <td>ENST00000581066</td>\n",
       "      <td>MRPS21</td>\n",
       "      <td>150293861</td>\n",
       "      <td>150308979</td>\n",
       "      <td>1</td>\n",
       "      <td>NaN</td>\n",
       "    </tr>\n",
       "    <tr>\n",
       "      <th>3617</th>\n",
       "      <td>ENSG00000285053</td>\n",
       "      <td>ENST00000643410</td>\n",
       "      <td>NaN</td>\n",
       "      <td>235328570</td>\n",
       "      <td>235448952</td>\n",
       "      <td>1</td>\n",
       "      <td>NaN</td>\n",
       "    </tr>\n",
       "    <tr>\n",
       "      <th>3618</th>\n",
       "      <td>ENSG00000285629</td>\n",
       "      <td>ENST00000484532</td>\n",
       "      <td>NaN</td>\n",
       "      <td>6159430</td>\n",
       "      <td>6197757</td>\n",
       "      <td>1</td>\n",
       "      <td>NaN</td>\n",
       "    </tr>\n",
       "  </tbody>\n",
       "</table>\n",
       "<p>3619 rows × 7 columns</p>\n",
       "</div>"
      ],
      "text/plain": [
       "       Gene stable ID Transcript stable ID Gene name  Gene start (bp)  \\\n",
       "0     ENSG00000164163      ENST00000296577     ABCE1        145098288   \n",
       "1     ENSG00000164163      ENST00000296577     ABCE1        145098288   \n",
       "2     ENSG00000164163      ENST00000296577     ABCE1        145098288   \n",
       "3     ENSG00000164163      ENST00000296577     ABCE1        145098288   \n",
       "4     ENSG00000164163      ENST00000296577     ABCE1        145098288   \n",
       "...               ...                  ...       ...              ...   \n",
       "3614  ENSG00000285626      ENST00000649180   5S_rRNA         11561661   \n",
       "3615  ENSG00000266472      ENST00000614145    MRPS21        150293861   \n",
       "3616  ENSG00000266472      ENST00000581066    MRPS21        150293861   \n",
       "3617  ENSG00000285053      ENST00000643410       NaN        235328570   \n",
       "3618  ENSG00000285629      ENST00000484532       NaN          6159430   \n",
       "\n",
       "      Gene end (bp) Chromosome/scaffold name Gene Synonym  \n",
       "0         145129524                        4         OABP  \n",
       "1         145129524                        4          RLI  \n",
       "2         145129524                        4         RLI1  \n",
       "3         145129524                        4      RNASEL1  \n",
       "4         145129524                        4      RNASELI  \n",
       "...             ...                      ...          ...  \n",
       "3614       11561779                        2          NaN  \n",
       "3615      150308979                        1          NaN  \n",
       "3616      150308979                        1          NaN  \n",
       "3617      235448952                        1          NaN  \n",
       "3618        6197757                        1          NaN  \n",
       "\n",
       "[3619 rows x 7 columns]"
      ]
     },
     "execution_count": 42,
     "metadata": {},
     "output_type": "execute_result"
    }
   ],
   "source": [
    "ribosomal_genes"
   ]
  },
  {
   "cell_type": "code",
   "execution_count": 43,
   "id": "a84361a5-5eb5-43e0-bcbf-8a03ea61e3d2",
   "metadata": {},
   "outputs": [],
   "source": [
    "ribosomal_genes = pd.unique(ribosomal_genes['Gene name'])"
   ]
  },
  {
   "cell_type": "code",
   "execution_count": 44,
   "id": "2fa89b31-3d8a-4f0d-bd2d-fc4dd8219bf3",
   "metadata": {},
   "outputs": [],
   "source": [
    "#ribosomal_genes"
   ]
  },
  {
   "cell_type": "code",
   "execution_count": null,
   "id": "97f8416e-7f6c-4752-b94a-f012c6c8eac0",
   "metadata": {},
   "outputs": [],
   "source": []
  },
  {
   "cell_type": "code",
   "execution_count": 45,
   "id": "97bd7397-da0d-464e-a8f9-ade9d105abee",
   "metadata": {},
   "outputs": [],
   "source": [
    "## Optional filter out ribosomal genes"
   ]
  },
  {
   "cell_type": "code",
   "execution_count": 46,
   "id": "54175c66-c0d2-499c-a8f2-7d2a826398e2",
   "metadata": {},
   "outputs": [],
   "source": [
    "if filter_rb_mt  == True:\n",
    "\n",
    "    ## New with list of ribosoal gnee-pairs\n",
    "    coeQTLs = coeQTLs[~coeQTLs['gene1'].isin(ribosomal_genes)]\n",
    "    coeQTLs = coeQTLs[~coeQTLs['gene2'].isin(ribosomal_genes)]\n",
    "    "
   ]
  },
  {
   "cell_type": "code",
   "execution_count": 47,
   "id": "0be6444a-a829-4912-8d9d-d0f836f0bd63",
   "metadata": {},
   "outputs": [],
   "source": [
    "#coeQTLs['gene1']"
   ]
  },
  {
   "cell_type": "code",
   "execution_count": 48,
   "id": "fcb0b53e-2a31-46b2-aa45-bd2545035bfc",
   "metadata": {},
   "outputs": [
    {
     "data": {
      "text/html": [
       "<div>\n",
       "<style scoped>\n",
       "    .dataframe tbody tr th:only-of-type {\n",
       "        vertical-align: middle;\n",
       "    }\n",
       "\n",
       "    .dataframe tbody tr th {\n",
       "        vertical-align: top;\n",
       "    }\n",
       "\n",
       "    .dataframe thead th {\n",
       "        text-align: right;\n",
       "    }\n",
       "</style>\n",
       "<table border=\"1\" class=\"dataframe\">\n",
       "  <thead>\n",
       "    <tr style=\"text-align: right;\">\n",
       "      <th></th>\n",
       "      <th>Unnamed: 0</th>\n",
       "      <th>cell_type</th>\n",
       "      <th>dataset</th>\n",
       "      <th>feature_id</th>\n",
       "      <th>snp_id</th>\n",
       "      <th>beta</th>\n",
       "      <th>feature_chromosome</th>\n",
       "      <th>feature_end</th>\n",
       "      <th>feature_start</th>\n",
       "      <th>p_value</th>\n",
       "      <th>...</th>\n",
       "      <th>p_val_corrected</th>\n",
       "      <th>p_val_lfdr</th>\n",
       "      <th>q_val</th>\n",
       "      <th>gene_x</th>\n",
       "      <th>snp_x</th>\n",
       "      <th>is_egene_x</th>\n",
       "      <th>gene_y</th>\n",
       "      <th>snp_y</th>\n",
       "      <th>is_egene_y</th>\n",
       "      <th>egene</th>\n",
       "    </tr>\n",
       "  </thead>\n",
       "  <tbody>\n",
       "    <tr>\n",
       "      <th>0</th>\n",
       "      <td>1</td>\n",
       "      <td>CD4_T</td>\n",
       "      <td>oneK1K</td>\n",
       "      <td>A1BG-AS1_AASS</td>\n",
       "      <td>19:58355068:G:A</td>\n",
       "      <td>-0.056400</td>\n",
       "      <td>19</td>\n",
       "      <td>58355183</td>\n",
       "      <td>58347751</td>\n",
       "      <td>0.612550</td>\n",
       "      <td>...</td>\n",
       "      <td>0.991382</td>\n",
       "      <td>0.997565</td>\n",
       "      <td>0.976243</td>\n",
       "      <td>A1BG-AS1</td>\n",
       "      <td>19:58355068:G:A</td>\n",
       "      <td>1.0</td>\n",
       "      <td>NaN</td>\n",
       "      <td>NaN</td>\n",
       "      <td>NaN</td>\n",
       "      <td>A1BG-AS1</td>\n",
       "    </tr>\n",
       "    <tr>\n",
       "      <th>1</th>\n",
       "      <td>2</td>\n",
       "      <td>CD4_T</td>\n",
       "      <td>oneK1K</td>\n",
       "      <td>A1BG-AS1_AASS</td>\n",
       "      <td>7:122023523:T:TTA</td>\n",
       "      <td>-0.050328</td>\n",
       "      <td>7</td>\n",
       "      <td>122144280</td>\n",
       "      <td>122075647</td>\n",
       "      <td>0.651385</td>\n",
       "      <td>...</td>\n",
       "      <td>0.992673</td>\n",
       "      <td>0.997710</td>\n",
       "      <td>0.977514</td>\n",
       "      <td>NaN</td>\n",
       "      <td>NaN</td>\n",
       "      <td>NaN</td>\n",
       "      <td>AASS</td>\n",
       "      <td>7:122023523:T:TTA</td>\n",
       "      <td>1.0</td>\n",
       "      <td>AASS</td>\n",
       "    </tr>\n",
       "    <tr>\n",
       "      <th>2</th>\n",
       "      <td>3</td>\n",
       "      <td>CD4_T</td>\n",
       "      <td>oneK1K</td>\n",
       "      <td>A1BG-AS1_ABCA1</td>\n",
       "      <td>19:58355068:G:A</td>\n",
       "      <td>-0.007532</td>\n",
       "      <td>19</td>\n",
       "      <td>58355183</td>\n",
       "      <td>58347751</td>\n",
       "      <td>0.920512</td>\n",
       "      <td>...</td>\n",
       "      <td>0.998731</td>\n",
       "      <td>1.000000</td>\n",
       "      <td>0.983480</td>\n",
       "      <td>A1BG-AS1</td>\n",
       "      <td>19:58355068:G:A</td>\n",
       "      <td>1.0</td>\n",
       "      <td>NaN</td>\n",
       "      <td>NaN</td>\n",
       "      <td>NaN</td>\n",
       "      <td>A1BG-AS1</td>\n",
       "    </tr>\n",
       "    <tr>\n",
       "      <th>3</th>\n",
       "      <td>4</td>\n",
       "      <td>CD4_T</td>\n",
       "      <td>oneK1K</td>\n",
       "      <td>A1BG-AS1_ABCA1</td>\n",
       "      <td>9:104923850:A:G</td>\n",
       "      <td>-0.010463</td>\n",
       "      <td>9</td>\n",
       "      <td>104928237</td>\n",
       "      <td>104781002</td>\n",
       "      <td>0.889754</td>\n",
       "      <td>...</td>\n",
       "      <td>0.998178</td>\n",
       "      <td>1.000000</td>\n",
       "      <td>0.982936</td>\n",
       "      <td>NaN</td>\n",
       "      <td>NaN</td>\n",
       "      <td>NaN</td>\n",
       "      <td>ABCA1</td>\n",
       "      <td>9:104923850:A:G</td>\n",
       "      <td>1.0</td>\n",
       "      <td>ABCA1</td>\n",
       "    </tr>\n",
       "    <tr>\n",
       "      <th>4</th>\n",
       "      <td>5</td>\n",
       "      <td>CD4_T</td>\n",
       "      <td>oneK1K</td>\n",
       "      <td>A1BG-AS1_ABCA1</td>\n",
       "      <td>9:104934731:T:C</td>\n",
       "      <td>0.096131</td>\n",
       "      <td>9</td>\n",
       "      <td>104928237</td>\n",
       "      <td>104781002</td>\n",
       "      <td>0.201791</td>\n",
       "      <td>...</td>\n",
       "      <td>0.965108</td>\n",
       "      <td>0.977768</td>\n",
       "      <td>0.950371</td>\n",
       "      <td>NaN</td>\n",
       "      <td>NaN</td>\n",
       "      <td>NaN</td>\n",
       "      <td>ABCA1</td>\n",
       "      <td>9:104934731:T:C</td>\n",
       "      <td>1.0</td>\n",
       "      <td>ABCA1</td>\n",
       "    </tr>\n",
       "    <tr>\n",
       "      <th>...</th>\n",
       "      <td>...</td>\n",
       "      <td>...</td>\n",
       "      <td>...</td>\n",
       "      <td>...</td>\n",
       "      <td>...</td>\n",
       "      <td>...</td>\n",
       "      <td>...</td>\n",
       "      <td>...</td>\n",
       "      <td>...</td>\n",
       "      <td>...</td>\n",
       "      <td>...</td>\n",
       "      <td>...</td>\n",
       "      <td>...</td>\n",
       "      <td>...</td>\n",
       "      <td>...</td>\n",
       "      <td>...</td>\n",
       "      <td>...</td>\n",
       "      <td>...</td>\n",
       "      <td>...</td>\n",
       "      <td>...</td>\n",
       "      <td>...</td>\n",
       "    </tr>\n",
       "    <tr>\n",
       "      <th>31497748</th>\n",
       "      <td>31497749</td>\n",
       "      <td>CD4_T</td>\n",
       "      <td>oneK1K</td>\n",
       "      <td>ZXDC_ZYG11B</td>\n",
       "      <td>3:126168798:A:G</td>\n",
       "      <td>-0.037423</td>\n",
       "      <td>3</td>\n",
       "      <td>126475919</td>\n",
       "      <td>126437601</td>\n",
       "      <td>0.242786</td>\n",
       "      <td>...</td>\n",
       "      <td>0.970158</td>\n",
       "      <td>0.981550</td>\n",
       "      <td>0.955343</td>\n",
       "      <td>ZXDC</td>\n",
       "      <td>3:126168798:A:G</td>\n",
       "      <td>1.0</td>\n",
       "      <td>NaN</td>\n",
       "      <td>NaN</td>\n",
       "      <td>NaN</td>\n",
       "      <td>ZXDC</td>\n",
       "    </tr>\n",
       "    <tr>\n",
       "      <th>31497749</th>\n",
       "      <td>31497750</td>\n",
       "      <td>CD4_T</td>\n",
       "      <td>oneK1K</td>\n",
       "      <td>ZXDC_ZYG11B</td>\n",
       "      <td>3:126479414:ATC:A</td>\n",
       "      <td>-0.028699</td>\n",
       "      <td>3</td>\n",
       "      <td>126475919</td>\n",
       "      <td>126437601</td>\n",
       "      <td>0.370452</td>\n",
       "      <td>...</td>\n",
       "      <td>0.980444</td>\n",
       "      <td>0.989702</td>\n",
       "      <td>0.965472</td>\n",
       "      <td>ZXDC</td>\n",
       "      <td>3:126479414:ATC:A</td>\n",
       "      <td>1.0</td>\n",
       "      <td>NaN</td>\n",
       "      <td>NaN</td>\n",
       "      <td>NaN</td>\n",
       "      <td>ZXDC</td>\n",
       "    </tr>\n",
       "    <tr>\n",
       "      <th>31497750</th>\n",
       "      <td>31497751</td>\n",
       "      <td>CD4_T</td>\n",
       "      <td>oneK1K</td>\n",
       "      <td>ZXDC_ZYX</td>\n",
       "      <td>3:126168798:A:G</td>\n",
       "      <td>-0.012530</td>\n",
       "      <td>3</td>\n",
       "      <td>126475919</td>\n",
       "      <td>126437601</td>\n",
       "      <td>0.693168</td>\n",
       "      <td>...</td>\n",
       "      <td>0.993743</td>\n",
       "      <td>0.997710</td>\n",
       "      <td>0.978568</td>\n",
       "      <td>ZXDC</td>\n",
       "      <td>3:126168798:A:G</td>\n",
       "      <td>1.0</td>\n",
       "      <td>NaN</td>\n",
       "      <td>NaN</td>\n",
       "      <td>NaN</td>\n",
       "      <td>ZXDC</td>\n",
       "    </tr>\n",
       "    <tr>\n",
       "      <th>31497751</th>\n",
       "      <td>31497752</td>\n",
       "      <td>CD4_T</td>\n",
       "      <td>oneK1K</td>\n",
       "      <td>ZXDC_ZYX</td>\n",
       "      <td>3:126479414:ATC:A</td>\n",
       "      <td>0.039789</td>\n",
       "      <td>3</td>\n",
       "      <td>126475919</td>\n",
       "      <td>126437601</td>\n",
       "      <td>0.210069</td>\n",
       "      <td>...</td>\n",
       "      <td>0.966229</td>\n",
       "      <td>0.978784</td>\n",
       "      <td>0.951475</td>\n",
       "      <td>ZXDC</td>\n",
       "      <td>3:126479414:ATC:A</td>\n",
       "      <td>1.0</td>\n",
       "      <td>NaN</td>\n",
       "      <td>NaN</td>\n",
       "      <td>NaN</td>\n",
       "      <td>ZXDC</td>\n",
       "    </tr>\n",
       "    <tr>\n",
       "      <th>31497752</th>\n",
       "      <td>31497753</td>\n",
       "      <td>CD4_T</td>\n",
       "      <td>oneK1K</td>\n",
       "      <td>ZXDC_ZYX</td>\n",
       "      <td>7:143444382:T:C</td>\n",
       "      <td>-0.016615</td>\n",
       "      <td>7</td>\n",
       "      <td>143391111</td>\n",
       "      <td>143381080</td>\n",
       "      <td>0.600818</td>\n",
       "      <td>...</td>\n",
       "      <td>0.990935</td>\n",
       "      <td>0.997210</td>\n",
       "      <td>0.975803</td>\n",
       "      <td>NaN</td>\n",
       "      <td>NaN</td>\n",
       "      <td>NaN</td>\n",
       "      <td>ZYX</td>\n",
       "      <td>7:143444382:T:C</td>\n",
       "      <td>1.0</td>\n",
       "      <td>ZYX</td>\n",
       "    </tr>\n",
       "  </tbody>\n",
       "</table>\n",
       "<p>30326351 rows × 24 columns</p>\n",
       "</div>"
      ],
      "text/plain": [
       "          Unnamed: 0 cell_type dataset      feature_id             snp_id  \\\n",
       "0                  1     CD4_T  oneK1K   A1BG-AS1_AASS    19:58355068:G:A   \n",
       "1                  2     CD4_T  oneK1K   A1BG-AS1_AASS  7:122023523:T:TTA   \n",
       "2                  3     CD4_T  oneK1K  A1BG-AS1_ABCA1    19:58355068:G:A   \n",
       "3                  4     CD4_T  oneK1K  A1BG-AS1_ABCA1    9:104923850:A:G   \n",
       "4                  5     CD4_T  oneK1K  A1BG-AS1_ABCA1    9:104934731:T:C   \n",
       "...              ...       ...     ...             ...                ...   \n",
       "31497748    31497749     CD4_T  oneK1K     ZXDC_ZYG11B    3:126168798:A:G   \n",
       "31497749    31497750     CD4_T  oneK1K     ZXDC_ZYG11B  3:126479414:ATC:A   \n",
       "31497750    31497751     CD4_T  oneK1K        ZXDC_ZYX    3:126168798:A:G   \n",
       "31497751    31497752     CD4_T  oneK1K        ZXDC_ZYX  3:126479414:ATC:A   \n",
       "31497752    31497753     CD4_T  oneK1K        ZXDC_ZYX    7:143444382:T:C   \n",
       "\n",
       "              beta  feature_chromosome  feature_end  feature_start   p_value  \\\n",
       "0        -0.056400                  19     58355183       58347751  0.612550   \n",
       "1        -0.050328                   7    122144280      122075647  0.651385   \n",
       "2        -0.007532                  19     58355183       58347751  0.920512   \n",
       "3        -0.010463                   9    104928237      104781002  0.889754   \n",
       "4         0.096131                   9    104928237      104781002  0.201791   \n",
       "...            ...                 ...          ...            ...       ...   \n",
       "31497748 -0.037423                   3    126475919      126437601  0.242786   \n",
       "31497749 -0.028699                   3    126475919      126437601  0.370452   \n",
       "31497750 -0.012530                   3    126475919      126437601  0.693168   \n",
       "31497751  0.039789                   3    126475919      126437601  0.210069   \n",
       "31497752 -0.016615                   7    143391111      143381080  0.600818   \n",
       "\n",
       "          ...  p_val_corrected p_val_lfdr     q_val    gene_x  \\\n",
       "0         ...         0.991382   0.997565  0.976243  A1BG-AS1   \n",
       "1         ...         0.992673   0.997710  0.977514       NaN   \n",
       "2         ...         0.998731   1.000000  0.983480  A1BG-AS1   \n",
       "3         ...         0.998178   1.000000  0.982936       NaN   \n",
       "4         ...         0.965108   0.977768  0.950371       NaN   \n",
       "...       ...              ...        ...       ...       ...   \n",
       "31497748  ...         0.970158   0.981550  0.955343      ZXDC   \n",
       "31497749  ...         0.980444   0.989702  0.965472      ZXDC   \n",
       "31497750  ...         0.993743   0.997710  0.978568      ZXDC   \n",
       "31497751  ...         0.966229   0.978784  0.951475      ZXDC   \n",
       "31497752  ...         0.990935   0.997210  0.975803       NaN   \n",
       "\n",
       "                      snp_x  is_egene_x  gene_y              snp_y is_egene_y  \\\n",
       "0           19:58355068:G:A         1.0     NaN                NaN        NaN   \n",
       "1                       NaN         NaN    AASS  7:122023523:T:TTA        1.0   \n",
       "2           19:58355068:G:A         1.0     NaN                NaN        NaN   \n",
       "3                       NaN         NaN   ABCA1    9:104923850:A:G        1.0   \n",
       "4                       NaN         NaN   ABCA1    9:104934731:T:C        1.0   \n",
       "...                     ...         ...     ...                ...        ...   \n",
       "31497748    3:126168798:A:G         1.0     NaN                NaN        NaN   \n",
       "31497749  3:126479414:ATC:A         1.0     NaN                NaN        NaN   \n",
       "31497750    3:126168798:A:G         1.0     NaN                NaN        NaN   \n",
       "31497751  3:126479414:ATC:A         1.0     NaN                NaN        NaN   \n",
       "31497752                NaN         NaN     ZYX    7:143444382:T:C        1.0   \n",
       "\n",
       "             egene  \n",
       "0         A1BG-AS1  \n",
       "1             AASS  \n",
       "2         A1BG-AS1  \n",
       "3            ABCA1  \n",
       "4            ABCA1  \n",
       "...            ...  \n",
       "31497748      ZXDC  \n",
       "31497749      ZXDC  \n",
       "31497750      ZXDC  \n",
       "31497751      ZXDC  \n",
       "31497752       ZYX  \n",
       "\n",
       "[30326351 rows x 24 columns]"
      ]
     },
     "execution_count": 48,
     "metadata": {},
     "output_type": "execute_result"
    }
   ],
   "source": [
    "coeQTLs"
   ]
  },
  {
   "cell_type": "code",
   "execution_count": null,
   "id": "606ea829-e349-4fbb-802f-3252108d7d00",
   "metadata": {},
   "outputs": [],
   "source": []
  },
  {
   "cell_type": "code",
   "execution_count": 49,
   "id": "c076ea63-59a8-4dd0-9eeb-509a8925e9bf",
   "metadata": {},
   "outputs": [],
   "source": [
    "## Define is co-eqtl (true/ false column for prediction)"
   ]
  },
  {
   "cell_type": "code",
   "execution_count": 50,
   "id": "5f0186de-5ec5-4090-9a7d-5c1bf3926232",
   "metadata": {},
   "outputs": [
    {
     "name": "stderr",
     "output_type": "stream",
     "text": [
      "/tmp/ipykernel_2045421/2538178931.py:2: FutureWarning: ChainedAssignmentError: behaviour will change in pandas 3.0!\n",
      "You are setting values through chained assignment. Currently this works in certain cases, but when using Copy-on-Write (which will become the default behaviour in pandas 3.0) this will never work to update the original DataFrame or Series, because the intermediate object on which we are setting values will behave as a copy.\n",
      "A typical example is when you are setting values in a column of a DataFrame, like:\n",
      "\n",
      "df[\"col\"][row_indexer] = value\n",
      "\n",
      "Use `df.loc[row_indexer, \"col\"] = values` instead, to perform the assignment in a single step and ensure this keeps updating the original `df`.\n",
      "\n",
      "See the caveats in the documentation: https://pandas.pydata.org/pandas-docs/stable/user_guide/indexing.html#returning-a-view-versus-a-copy\n",
      "\n",
      "  coeQTLs['is_coeqtl'][coeQTLs[p_val_column] < p_thres] = True\n",
      "/tmp/ipykernel_2045421/2538178931.py:2: SettingWithCopyWarning: \n",
      "A value is trying to be set on a copy of a slice from a DataFrame\n",
      "\n",
      "See the caveats in the documentation: https://pandas.pydata.org/pandas-docs/stable/user_guide/indexing.html#returning-a-view-versus-a-copy\n",
      "  coeQTLs['is_coeqtl'][coeQTLs[p_val_column] < p_thres] = True\n"
     ]
    }
   ],
   "source": [
    "coeQTLs['is_coeqtl'] = False\n",
    "coeQTLs['is_coeqtl'][coeQTLs[p_val_column] < p_thres] = True"
   ]
  },
  {
   "cell_type": "code",
   "execution_count": 51,
   "id": "7fac1b39-b0f4-4401-9d90-85f26936a9d4",
   "metadata": {},
   "outputs": [
    {
     "data": {
      "text/plain": [
       "1029"
      ]
     },
     "execution_count": 51,
     "metadata": {},
     "output_type": "execute_result"
    }
   ],
   "source": [
    "sum(coeQTLs['is_coeqtl'])   # amount of significant co-eqtls"
   ]
  },
  {
   "cell_type": "code",
   "execution_count": null,
   "id": "c9a07bc4-9af1-4eff-b906-bfa8d4498d1a",
   "metadata": {},
   "outputs": [],
   "source": []
  },
  {
   "cell_type": "code",
   "execution_count": null,
   "id": "3d721549-7ddf-4489-b6b6-ecedbc15a0d1",
   "metadata": {},
   "outputs": [],
   "source": []
  },
  {
   "cell_type": "code",
   "execution_count": 52,
   "id": "3eaf546c-5f34-42d4-b6ab-a33066940e12",
   "metadata": {},
   "outputs": [],
   "source": [
    "## Only extract relevant columsn"
   ]
  },
  {
   "cell_type": "code",
   "execution_count": 53,
   "id": "84483349-a3d2-4430-9827-2cf8fa4ae433",
   "metadata": {},
   "outputs": [],
   "source": [
    "coeQTLs_input = coeQTLs[['feature_id', 'is_coeqtl', 'snp_id', 'is_egene_y', 'is_egene_x']]"
   ]
  },
  {
   "cell_type": "code",
   "execution_count": 54,
   "id": "97f739f2-4e12-4f04-869d-d42080d198ae",
   "metadata": {},
   "outputs": [
    {
     "data": {
      "text/plain": [
       "(30326351, 5)"
      ]
     },
     "execution_count": 54,
     "metadata": {},
     "output_type": "execute_result"
    }
   ],
   "source": [
    "coeQTLs_input.shape"
   ]
  },
  {
   "cell_type": "code",
   "execution_count": 55,
   "id": "a1c98200-6ffe-4a55-abc9-42cc7b30f9c4",
   "metadata": {},
   "outputs": [
    {
     "data": {
      "text/plain": [
       "8329477"
      ]
     },
     "execution_count": 55,
     "metadata": {},
     "output_type": "execute_result"
    }
   ],
   "source": [
    "len(pd.unique(coeQTLs_input['feature_id']))"
   ]
  },
  {
   "cell_type": "markdown",
   "id": "b4191ad4-5b81-4606-ac15-125a1188bcaf",
   "metadata": {},
   "source": [
    "## Summary stats as features"
   ]
  },
  {
   "cell_type": "code",
   "execution_count": 56,
   "id": "668810b4-4bdc-4f0d-9487-5c6851f7a408",
   "metadata": {},
   "outputs": [],
   "source": [
    "if type_sum_stats == 'data':\n",
    "    summary_stats = pd.read_csv(result_path_analysis + 'F6_Summary_Stats_all_data.csv')\n",
    "\n",
    "if type_sum_stats == 'RNA':\n",
    "    summary_stats = pd.read_csv(result_path_analysis + 'F6_Summary_Stats_all.csv')"
   ]
  },
  {
   "cell_type": "code",
   "execution_count": 57,
   "id": "fe4a3667-5cf8-405f-8e9a-79b8e826db04",
   "metadata": {},
   "outputs": [
    {
     "data": {
      "text/plain": [
       "(8649759, 44)"
      ]
     },
     "execution_count": 57,
     "metadata": {},
     "output_type": "execute_result"
    }
   ],
   "source": [
    "summary_stats.shape"
   ]
  },
  {
   "cell_type": "code",
   "execution_count": 58,
   "id": "e06803f5-1b42-4906-9188-7c7d5c7707ef",
   "metadata": {},
   "outputs": [
    {
     "data": {
      "text/plain": [
       "Index(['Unnamed: 0.1', 'gene_pair', 'mean_correlation', 'mean_abs_correlation',\n",
       "       'var_correlation', 'max_correlation', 'n_NA', 'n_not_NA',\n",
       "       'n_significant', 'weighted_variance', 'perc_significant',\n",
       "       'weighted_var_div_mean', 'gene1', 'gene2', 'gene1_Unnamed: 0',\n",
       "       'gene1_gene', 'gene1_mean_expression',\n",
       "       'gene1_sd_sample_mean_expression', 'gene1_mean_variance',\n",
       "       'gene1_sd_sample_variance', 'gene1_sum_non_zero', 'gene1_mean_non_zero',\n",
       "       'gene1_mean_percentage_zero', 'gene1_sum_zero', 'gene1_mean_zero',\n",
       "       'gene1_mean_coef_var', 'gene2_Unnamed: 0', 'gene2_gene',\n",
       "       'gene2_mean_expression', 'gene2_sd_sample_mean_expression',\n",
       "       'gene2_mean_variance', 'gene2_sd_sample_variance', 'gene2_sum_non_zero',\n",
       "       'gene2_mean_non_zero', 'gene2_mean_percentage_zero', 'gene2_sum_zero',\n",
       "       'gene2_mean_zero', 'gene2_mean_coef_var', 'Unnamed: 0', 'n_sample',\n",
       "       'mean_paired_non_zero', 'mean_paired_zero', 'mean_zero_one_cell',\n",
       "       'mean_non_zero_one_cell'],\n",
       "      dtype='object')"
      ]
     },
     "execution_count": 58,
     "metadata": {},
     "output_type": "execute_result"
    }
   ],
   "source": [
    "summary_stats.columns  # available features"
   ]
  },
  {
   "cell_type": "code",
   "execution_count": 59,
   "id": "7777379c-cb03-4a1b-b8f2-7d80608d437e",
   "metadata": {},
   "outputs": [],
   "source": [
    "## filter on features"
   ]
  },
  {
   "cell_type": "code",
   "execution_count": 60,
   "id": "41a9f7b6-66c0-4d14-b651-01d31d43f714",
   "metadata": {},
   "outputs": [],
   "source": [
    "summary_stats_input = summary_stats"
   ]
  },
  {
   "cell_type": "code",
   "execution_count": 61,
   "id": "0ec755c3-28c0-4c50-8660-35b3cf3e4e40",
   "metadata": {},
   "outputs": [
    {
     "data": {
      "text/plain": [
       "(8649759, 44)"
      ]
     },
     "execution_count": 61,
     "metadata": {},
     "output_type": "execute_result"
    }
   ],
   "source": [
    "summary_stats_input.shape"
   ]
  },
  {
   "cell_type": "markdown",
   "id": "ff6787e7-4d1f-4d4b-ad2d-075d2638fdd0",
   "metadata": {},
   "source": [
    "## eQTL effect sizes as feature (if available)"
   ]
  },
  {
   "cell_type": "code",
   "execution_count": 62,
   "id": "9761fb21-1781-449d-8d89-ba1fbaba73c4",
   "metadata": {},
   "outputs": [
    {
     "data": {
      "text/plain": [
       "True"
      ]
     },
     "execution_count": 62,
     "metadata": {},
     "output_type": "execute_result"
    }
   ],
   "source": [
    "os.path.exists(result_path_analysis + 'F6_QTL_effects_summary.csv')"
   ]
  },
  {
   "cell_type": "code",
   "execution_count": 63,
   "id": "3888ca5b-a49e-4d8b-a3b5-6ce9c45c2a1a",
   "metadata": {},
   "outputs": [],
   "source": [
    "if os.path.exists(result_path_analysis + 'F6_QTL_effects_summary.csv'):\n",
    "    eqtl_stats = pd.read_csv(result_path_analysis + 'F6_QTL_effects_summary.csv')\n",
    "    eqtl_stats['abs_QTL_beta'] = abs(eqtl_stats['QTL_beta'])"
   ]
  },
  {
   "cell_type": "code",
   "execution_count": null,
   "id": "953beb7b-24a0-4097-9ed1-98fe59d964d9",
   "metadata": {},
   "outputs": [],
   "source": []
  },
  {
   "cell_type": "markdown",
   "id": "127b5d21-e26d-48aa-8fb1-2e26407627de",
   "metadata": {},
   "source": [
    "# Combine data for input"
   ]
  },
  {
   "cell_type": "code",
   "execution_count": 64,
   "id": "9ae02dc3-622e-4e80-a48a-d7359484900b",
   "metadata": {},
   "outputs": [],
   "source": [
    "## Combine to decision tree input"
   ]
  },
  {
   "cell_type": "code",
   "execution_count": 65,
   "id": "5d2cbbd4-f948-4b20-adb2-e9dc898de2cb",
   "metadata": {
    "tags": []
   },
   "outputs": [],
   "source": [
    "decision_tree_input = pd.merge(coeQTLs_input , summary_stats_input, left_on = 'feature_id', right_on = 'gene_pair')\n",
    "\n",
    "if os.path.exists(result_path_analysis + 'F6_QTL_effects_summary.csv'):\n",
    "    decision_tree_input = pd.merge(decision_tree_input ,eqtl_stats  , left_on = ['feature_id', 'snp_id'], right_on = ['feature_id', 'snp_id'])\n"
   ]
  },
  {
   "cell_type": "code",
   "execution_count": 66,
   "id": "fc5ba366-afc9-48b2-96a0-2e814a1b2d59",
   "metadata": {},
   "outputs": [
    {
     "data": {
      "text/plain": [
       "8329477"
      ]
     },
     "execution_count": 66,
     "metadata": {},
     "output_type": "execute_result"
    }
   ],
   "source": [
    "len(pd.unique(decision_tree_input['feature_id']))   # includes all gene-pairs"
   ]
  },
  {
   "cell_type": "code",
   "execution_count": 67,
   "id": "6612cded-f0e9-4b38-9b5e-44352d7a1321",
   "metadata": {},
   "outputs": [
    {
     "data": {
      "text/plain": [
       "(30326351, 54)"
      ]
     },
     "execution_count": 67,
     "metadata": {},
     "output_type": "execute_result"
    }
   ],
   "source": [
    "decision_tree_input.shape"
   ]
  },
  {
   "cell_type": "code",
   "execution_count": 68,
   "id": "41336d12-ea44-43bf-baf2-e28b30253634",
   "metadata": {},
   "outputs": [
    {
     "data": {
      "text/plain": [
       "Index(['feature_id', 'is_coeqtl', 'snp_id', 'is_egene_y', 'is_egene_x',\n",
       "       'Unnamed: 0.1', 'gene_pair', 'mean_correlation', 'mean_abs_correlation',\n",
       "       'var_correlation', 'max_correlation', 'n_NA', 'n_not_NA',\n",
       "       'n_significant', 'weighted_variance', 'perc_significant',\n",
       "       'weighted_var_div_mean', 'gene1', 'gene2', 'gene1_Unnamed: 0',\n",
       "       'gene1_gene', 'gene1_mean_expression',\n",
       "       'gene1_sd_sample_mean_expression', 'gene1_mean_variance',\n",
       "       'gene1_sd_sample_variance', 'gene1_sum_non_zero', 'gene1_mean_non_zero',\n",
       "       'gene1_mean_percentage_zero', 'gene1_sum_zero', 'gene1_mean_zero',\n",
       "       'gene1_mean_coef_var', 'gene2_Unnamed: 0', 'gene2_gene',\n",
       "       'gene2_mean_expression', 'gene2_sd_sample_mean_expression',\n",
       "       'gene2_mean_variance', 'gene2_sd_sample_variance', 'gene2_sum_non_zero',\n",
       "       'gene2_mean_non_zero', 'gene2_mean_percentage_zero', 'gene2_sum_zero',\n",
       "       'gene2_mean_zero', 'gene2_mean_coef_var', 'Unnamed: 0_x', 'n_sample',\n",
       "       'mean_paired_non_zero', 'mean_paired_zero', 'mean_zero_one_cell',\n",
       "       'mean_non_zero_one_cell', 'Unnamed: 0_y', 'QTL_beta', 'QTL_p_value',\n",
       "       'eGene', 'abs_QTL_beta'],\n",
       "      dtype='object')"
      ]
     },
     "execution_count": 68,
     "metadata": {},
     "output_type": "execute_result"
    }
   ],
   "source": [
    "decision_tree_input.columns"
   ]
  },
  {
   "cell_type": "code",
   "execution_count": 69,
   "id": "e9f98549-9dbe-4e17-9079-a2ef5590eb04",
   "metadata": {},
   "outputs": [
    {
     "data": {
      "text/html": [
       "<div>\n",
       "<style scoped>\n",
       "    .dataframe tbody tr th:only-of-type {\n",
       "        vertical-align: middle;\n",
       "    }\n",
       "\n",
       "    .dataframe tbody tr th {\n",
       "        vertical-align: top;\n",
       "    }\n",
       "\n",
       "    .dataframe thead th {\n",
       "        text-align: right;\n",
       "    }\n",
       "</style>\n",
       "<table border=\"1\" class=\"dataframe\">\n",
       "  <thead>\n",
       "    <tr style=\"text-align: right;\">\n",
       "      <th></th>\n",
       "      <th>feature_id</th>\n",
       "      <th>is_coeqtl</th>\n",
       "      <th>snp_id</th>\n",
       "      <th>is_egene_y</th>\n",
       "      <th>is_egene_x</th>\n",
       "      <th>Unnamed: 0.1</th>\n",
       "      <th>gene_pair</th>\n",
       "      <th>mean_correlation</th>\n",
       "      <th>mean_abs_correlation</th>\n",
       "      <th>var_correlation</th>\n",
       "      <th>...</th>\n",
       "      <th>n_sample</th>\n",
       "      <th>mean_paired_non_zero</th>\n",
       "      <th>mean_paired_zero</th>\n",
       "      <th>mean_zero_one_cell</th>\n",
       "      <th>mean_non_zero_one_cell</th>\n",
       "      <th>Unnamed: 0_y</th>\n",
       "      <th>QTL_beta</th>\n",
       "      <th>QTL_p_value</th>\n",
       "      <th>eGene</th>\n",
       "      <th>abs_QTL_beta</th>\n",
       "    </tr>\n",
       "  </thead>\n",
       "  <tbody>\n",
       "    <tr>\n",
       "      <th>0</th>\n",
       "      <td>A1BG-AS1_AASS</td>\n",
       "      <td>False</td>\n",
       "      <td>19:58355068:G:A</td>\n",
       "      <td>NaN</td>\n",
       "      <td>1.0</td>\n",
       "      <td>5343067</td>\n",
       "      <td>A1BG-AS1_AASS</td>\n",
       "      <td>-0.002946</td>\n",
       "      <td>0.027858</td>\n",
       "      <td>0.001015</td>\n",
       "      <td>...</td>\n",
       "      <td>119.0</td>\n",
       "      <td>0.394958</td>\n",
       "      <td>623.588235</td>\n",
       "      <td>652.344538</td>\n",
       "      <td>29.151261</td>\n",
       "      <td>13295653</td>\n",
       "      <td>-0.151279</td>\n",
       "      <td>1.041730e-05</td>\n",
       "      <td>A1BG-AS1</td>\n",
       "      <td>0.151279</td>\n",
       "    </tr>\n",
       "    <tr>\n",
       "      <th>1</th>\n",
       "      <td>A1BG-AS1_AASS</td>\n",
       "      <td>False</td>\n",
       "      <td>7:122023523:T:TTA</td>\n",
       "      <td>1.0</td>\n",
       "      <td>NaN</td>\n",
       "      <td>5343067</td>\n",
       "      <td>A1BG-AS1_AASS</td>\n",
       "      <td>-0.002946</td>\n",
       "      <td>0.027858</td>\n",
       "      <td>0.001015</td>\n",
       "      <td>...</td>\n",
       "      <td>119.0</td>\n",
       "      <td>0.394958</td>\n",
       "      <td>623.588235</td>\n",
       "      <td>652.344538</td>\n",
       "      <td>29.151261</td>\n",
       "      <td>27828902</td>\n",
       "      <td>0.234117</td>\n",
       "      <td>7.686184e-07</td>\n",
       "      <td>AASS</td>\n",
       "      <td>0.234117</td>\n",
       "    </tr>\n",
       "    <tr>\n",
       "      <th>2</th>\n",
       "      <td>A1BG-AS1_ABCA1</td>\n",
       "      <td>False</td>\n",
       "      <td>19:58355068:G:A</td>\n",
       "      <td>NaN</td>\n",
       "      <td>1.0</td>\n",
       "      <td>6215473</td>\n",
       "      <td>A1BG-AS1_ABCA1</td>\n",
       "      <td>0.001423</td>\n",
       "      <td>0.031528</td>\n",
       "      <td>0.001636</td>\n",
       "      <td>...</td>\n",
       "      <td>222.0</td>\n",
       "      <td>0.518018</td>\n",
       "      <td>583.229730</td>\n",
       "      <td>615.693694</td>\n",
       "      <td>32.981982</td>\n",
       "      <td>13295656</td>\n",
       "      <td>-0.151279</td>\n",
       "      <td>1.041730e-05</td>\n",
       "      <td>A1BG-AS1</td>\n",
       "      <td>0.151279</td>\n",
       "    </tr>\n",
       "    <tr>\n",
       "      <th>3</th>\n",
       "      <td>A1BG-AS1_ABCA1</td>\n",
       "      <td>False</td>\n",
       "      <td>9:104923850:A:G</td>\n",
       "      <td>1.0</td>\n",
       "      <td>NaN</td>\n",
       "      <td>6215473</td>\n",
       "      <td>A1BG-AS1_ABCA1</td>\n",
       "      <td>0.001423</td>\n",
       "      <td>0.031528</td>\n",
       "      <td>0.001636</td>\n",
       "      <td>...</td>\n",
       "      <td>222.0</td>\n",
       "      <td>0.518018</td>\n",
       "      <td>583.229730</td>\n",
       "      <td>615.693694</td>\n",
       "      <td>32.981982</td>\n",
       "      <td>30397885</td>\n",
       "      <td>0.356225</td>\n",
       "      <td>9.063461e-25</td>\n",
       "      <td>ABCA1</td>\n",
       "      <td>0.356225</td>\n",
       "    </tr>\n",
       "    <tr>\n",
       "      <th>4</th>\n",
       "      <td>A1BG-AS1_ABCA1</td>\n",
       "      <td>False</td>\n",
       "      <td>9:104934731:T:C</td>\n",
       "      <td>1.0</td>\n",
       "      <td>NaN</td>\n",
       "      <td>6215473</td>\n",
       "      <td>A1BG-AS1_ABCA1</td>\n",
       "      <td>0.001423</td>\n",
       "      <td>0.031528</td>\n",
       "      <td>0.001636</td>\n",
       "      <td>...</td>\n",
       "      <td>222.0</td>\n",
       "      <td>0.518018</td>\n",
       "      <td>583.229730</td>\n",
       "      <td>615.693694</td>\n",
       "      <td>32.981982</td>\n",
       "      <td>30398715</td>\n",
       "      <td>-0.180888</td>\n",
       "      <td>5.532865e-08</td>\n",
       "      <td>ABCA1</td>\n",
       "      <td>0.180888</td>\n",
       "    </tr>\n",
       "    <tr>\n",
       "      <th>...</th>\n",
       "      <td>...</td>\n",
       "      <td>...</td>\n",
       "      <td>...</td>\n",
       "      <td>...</td>\n",
       "      <td>...</td>\n",
       "      <td>...</td>\n",
       "      <td>...</td>\n",
       "      <td>...</td>\n",
       "      <td>...</td>\n",
       "      <td>...</td>\n",
       "      <td>...</td>\n",
       "      <td>...</td>\n",
       "      <td>...</td>\n",
       "      <td>...</td>\n",
       "      <td>...</td>\n",
       "      <td>...</td>\n",
       "      <td>...</td>\n",
       "      <td>...</td>\n",
       "      <td>...</td>\n",
       "      <td>...</td>\n",
       "      <td>...</td>\n",
       "    </tr>\n",
       "    <tr>\n",
       "      <th>30326346</th>\n",
       "      <td>ZXDC_ZYG11B</td>\n",
       "      <td>False</td>\n",
       "      <td>3:126168798:A:G</td>\n",
       "      <td>NaN</td>\n",
       "      <td>1.0</td>\n",
       "      <td>1665760</td>\n",
       "      <td>ZXDC_ZYG11B</td>\n",
       "      <td>0.000616</td>\n",
       "      <td>0.038040</td>\n",
       "      <td>0.002456</td>\n",
       "      <td>...</td>\n",
       "      <td>981.0</td>\n",
       "      <td>3.713558</td>\n",
       "      <td>404.164118</td>\n",
       "      <td>480.286442</td>\n",
       "      <td>79.835882</td>\n",
       "      <td>21077292</td>\n",
       "      <td>0.223841</td>\n",
       "      <td>2.670962e-07</td>\n",
       "      <td>ZXDC</td>\n",
       "      <td>0.223841</td>\n",
       "    </tr>\n",
       "    <tr>\n",
       "      <th>30326347</th>\n",
       "      <td>ZXDC_ZYG11B</td>\n",
       "      <td>False</td>\n",
       "      <td>3:126479414:ATC:A</td>\n",
       "      <td>NaN</td>\n",
       "      <td>1.0</td>\n",
       "      <td>1665760</td>\n",
       "      <td>ZXDC_ZYG11B</td>\n",
       "      <td>0.000616</td>\n",
       "      <td>0.038040</td>\n",
       "      <td>0.002456</td>\n",
       "      <td>...</td>\n",
       "      <td>981.0</td>\n",
       "      <td>3.713558</td>\n",
       "      <td>404.164118</td>\n",
       "      <td>480.286442</td>\n",
       "      <td>79.835882</td>\n",
       "      <td>21079470</td>\n",
       "      <td>-0.130893</td>\n",
       "      <td>6.205211e-06</td>\n",
       "      <td>ZXDC</td>\n",
       "      <td>0.130893</td>\n",
       "    </tr>\n",
       "    <tr>\n",
       "      <th>30326348</th>\n",
       "      <td>ZXDC_ZYX</td>\n",
       "      <td>False</td>\n",
       "      <td>3:126168798:A:G</td>\n",
       "      <td>NaN</td>\n",
       "      <td>1.0</td>\n",
       "      <td>3580023</td>\n",
       "      <td>ZXDC_ZYX</td>\n",
       "      <td>0.001247</td>\n",
       "      <td>0.038562</td>\n",
       "      <td>0.002402</td>\n",
       "      <td>...</td>\n",
       "      <td>999.0</td>\n",
       "      <td>5.670671</td>\n",
       "      <td>388.208208</td>\n",
       "      <td>473.351351</td>\n",
       "      <td>90.813814</td>\n",
       "      <td>21077293</td>\n",
       "      <td>0.223841</td>\n",
       "      <td>2.670962e-07</td>\n",
       "      <td>ZXDC</td>\n",
       "      <td>0.223841</td>\n",
       "    </tr>\n",
       "    <tr>\n",
       "      <th>30326349</th>\n",
       "      <td>ZXDC_ZYX</td>\n",
       "      <td>False</td>\n",
       "      <td>3:126479414:ATC:A</td>\n",
       "      <td>NaN</td>\n",
       "      <td>1.0</td>\n",
       "      <td>3580023</td>\n",
       "      <td>ZXDC_ZYX</td>\n",
       "      <td>0.001247</td>\n",
       "      <td>0.038562</td>\n",
       "      <td>0.002402</td>\n",
       "      <td>...</td>\n",
       "      <td>999.0</td>\n",
       "      <td>5.670671</td>\n",
       "      <td>388.208208</td>\n",
       "      <td>473.351351</td>\n",
       "      <td>90.813814</td>\n",
       "      <td>21079471</td>\n",
       "      <td>-0.130893</td>\n",
       "      <td>6.205211e-06</td>\n",
       "      <td>ZXDC</td>\n",
       "      <td>0.130893</td>\n",
       "    </tr>\n",
       "    <tr>\n",
       "      <th>30326350</th>\n",
       "      <td>ZXDC_ZYX</td>\n",
       "      <td>False</td>\n",
       "      <td>7:143444382:T:C</td>\n",
       "      <td>1.0</td>\n",
       "      <td>NaN</td>\n",
       "      <td>3580023</td>\n",
       "      <td>ZXDC_ZYX</td>\n",
       "      <td>0.001247</td>\n",
       "      <td>0.038562</td>\n",
       "      <td>0.002402</td>\n",
       "      <td>...</td>\n",
       "      <td>999.0</td>\n",
       "      <td>5.670671</td>\n",
       "      <td>388.208208</td>\n",
       "      <td>473.351351</td>\n",
       "      <td>90.813814</td>\n",
       "      <td>28060126</td>\n",
       "      <td>-0.249754</td>\n",
       "      <td>2.094088e-08</td>\n",
       "      <td>ZYX</td>\n",
       "      <td>0.249754</td>\n",
       "    </tr>\n",
       "  </tbody>\n",
       "</table>\n",
       "<p>30326351 rows × 54 columns</p>\n",
       "</div>"
      ],
      "text/plain": [
       "              feature_id  is_coeqtl             snp_id  is_egene_y  \\\n",
       "0          A1BG-AS1_AASS      False    19:58355068:G:A         NaN   \n",
       "1          A1BG-AS1_AASS      False  7:122023523:T:TTA         1.0   \n",
       "2         A1BG-AS1_ABCA1      False    19:58355068:G:A         NaN   \n",
       "3         A1BG-AS1_ABCA1      False    9:104923850:A:G         1.0   \n",
       "4         A1BG-AS1_ABCA1      False    9:104934731:T:C         1.0   \n",
       "...                  ...        ...                ...         ...   \n",
       "30326346     ZXDC_ZYG11B      False    3:126168798:A:G         NaN   \n",
       "30326347     ZXDC_ZYG11B      False  3:126479414:ATC:A         NaN   \n",
       "30326348        ZXDC_ZYX      False    3:126168798:A:G         NaN   \n",
       "30326349        ZXDC_ZYX      False  3:126479414:ATC:A         NaN   \n",
       "30326350        ZXDC_ZYX      False    7:143444382:T:C         1.0   \n",
       "\n",
       "          is_egene_x  Unnamed: 0.1       gene_pair  mean_correlation  \\\n",
       "0                1.0       5343067   A1BG-AS1_AASS         -0.002946   \n",
       "1                NaN       5343067   A1BG-AS1_AASS         -0.002946   \n",
       "2                1.0       6215473  A1BG-AS1_ABCA1          0.001423   \n",
       "3                NaN       6215473  A1BG-AS1_ABCA1          0.001423   \n",
       "4                NaN       6215473  A1BG-AS1_ABCA1          0.001423   \n",
       "...              ...           ...             ...               ...   \n",
       "30326346         1.0       1665760     ZXDC_ZYG11B          0.000616   \n",
       "30326347         1.0       1665760     ZXDC_ZYG11B          0.000616   \n",
       "30326348         1.0       3580023        ZXDC_ZYX          0.001247   \n",
       "30326349         1.0       3580023        ZXDC_ZYX          0.001247   \n",
       "30326350         NaN       3580023        ZXDC_ZYX          0.001247   \n",
       "\n",
       "          mean_abs_correlation  var_correlation  ...  n_sample  \\\n",
       "0                     0.027858         0.001015  ...     119.0   \n",
       "1                     0.027858         0.001015  ...     119.0   \n",
       "2                     0.031528         0.001636  ...     222.0   \n",
       "3                     0.031528         0.001636  ...     222.0   \n",
       "4                     0.031528         0.001636  ...     222.0   \n",
       "...                        ...              ...  ...       ...   \n",
       "30326346              0.038040         0.002456  ...     981.0   \n",
       "30326347              0.038040         0.002456  ...     981.0   \n",
       "30326348              0.038562         0.002402  ...     999.0   \n",
       "30326349              0.038562         0.002402  ...     999.0   \n",
       "30326350              0.038562         0.002402  ...     999.0   \n",
       "\n",
       "          mean_paired_non_zero  mean_paired_zero  mean_zero_one_cell  \\\n",
       "0                     0.394958        623.588235          652.344538   \n",
       "1                     0.394958        623.588235          652.344538   \n",
       "2                     0.518018        583.229730          615.693694   \n",
       "3                     0.518018        583.229730          615.693694   \n",
       "4                     0.518018        583.229730          615.693694   \n",
       "...                        ...               ...                 ...   \n",
       "30326346              3.713558        404.164118          480.286442   \n",
       "30326347              3.713558        404.164118          480.286442   \n",
       "30326348              5.670671        388.208208          473.351351   \n",
       "30326349              5.670671        388.208208          473.351351   \n",
       "30326350              5.670671        388.208208          473.351351   \n",
       "\n",
       "          mean_non_zero_one_cell  Unnamed: 0_y  QTL_beta   QTL_p_value  \\\n",
       "0                      29.151261      13295653 -0.151279  1.041730e-05   \n",
       "1                      29.151261      27828902  0.234117  7.686184e-07   \n",
       "2                      32.981982      13295656 -0.151279  1.041730e-05   \n",
       "3                      32.981982      30397885  0.356225  9.063461e-25   \n",
       "4                      32.981982      30398715 -0.180888  5.532865e-08   \n",
       "...                          ...           ...       ...           ...   \n",
       "30326346               79.835882      21077292  0.223841  2.670962e-07   \n",
       "30326347               79.835882      21079470 -0.130893  6.205211e-06   \n",
       "30326348               90.813814      21077293  0.223841  2.670962e-07   \n",
       "30326349               90.813814      21079471 -0.130893  6.205211e-06   \n",
       "30326350               90.813814      28060126 -0.249754  2.094088e-08   \n",
       "\n",
       "             eGene  abs_QTL_beta  \n",
       "0         A1BG-AS1      0.151279  \n",
       "1             AASS      0.234117  \n",
       "2         A1BG-AS1      0.151279  \n",
       "3            ABCA1      0.356225  \n",
       "4            ABCA1      0.180888  \n",
       "...            ...           ...  \n",
       "30326346      ZXDC      0.223841  \n",
       "30326347      ZXDC      0.130893  \n",
       "30326348      ZXDC      0.223841  \n",
       "30326349      ZXDC      0.130893  \n",
       "30326350       ZYX      0.249754  \n",
       "\n",
       "[30326351 rows x 54 columns]"
      ]
     },
     "execution_count": 69,
     "metadata": {},
     "output_type": "execute_result"
    }
   ],
   "source": [
    "decision_tree_input"
   ]
  },
  {
   "cell_type": "code",
   "execution_count": 70,
   "id": "d51fb329-1ee7-4476-83c2-d4e82ecbe6b6",
   "metadata": {},
   "outputs": [],
   "source": [
    "### generate combined features"
   ]
  },
  {
   "cell_type": "code",
   "execution_count": 71,
   "id": "e4cb6eb3-f503-4bfc-98bd-183d51883095",
   "metadata": {},
   "outputs": [],
   "source": [
    "decision_tree_input['mean_expression'] = (decision_tree_input['gene1_mean_expression']  + decision_tree_input['gene2_mean_expression'] )/ 2\n",
    "decision_tree_input['mean_variance'] = (decision_tree_input['gene1_mean_variance']  + decision_tree_input['gene2_mean_variance'] )/ 2\n",
    "decision_tree_input['mean_sum_non_zero'] = (decision_tree_input['gene1_sum_non_zero']  + decision_tree_input['gene2_sum_non_zero'] )/ 2\n",
    "decision_tree_input['mean_mean_percentage_zero'] = (decision_tree_input['gene1_mean_percentage_zero']  + decision_tree_input['gene2_mean_percentage_zero'] )/ 2"
   ]
  },
  {
   "cell_type": "code",
   "execution_count": 72,
   "id": "d9522dc0-a506-4f78-a933-54124625d985",
   "metadata": {},
   "outputs": [],
   "source": [
    "decision_tree_input['min_mean_expression'] = decision_tree_input[['gene1_mean_expression','gene2_mean_expression']].min(axis=1)\n",
    "decision_tree_input['min_mean_variance'] = decision_tree_input[['gene1_mean_variance','gene2_mean_variance']].min(axis=1)\n",
    "decision_tree_input['min_sum_non_zero'] = decision_tree_input[['gene1_sum_non_zero','gene2_sum_non_zero']].min(axis=1)\n",
    "decision_tree_input['max_mean_percentage_zero'] = decision_tree_input[[ 'gene1_mean_percentage_zero','gene2_mean_percentage_zero']].max(axis=1)"
   ]
  },
  {
   "cell_type": "code",
   "execution_count": 73,
   "id": "c58597b6-a5a8-4bd9-b775-8ae9c5dcb28d",
   "metadata": {},
   "outputs": [],
   "source": [
    "decision_tree_input['coef_var1'] =  (decision_tree_input['gene1_mean_variance'] / decision_tree_input['gene1_mean_expression'] )\n",
    "decision_tree_input['coef_var2'] =  (decision_tree_input['gene2_mean_variance'] / decision_tree_input['gene2_mean_expression'] )"
   ]
  },
  {
   "cell_type": "code",
   "execution_count": 74,
   "id": "ba49a799-2a3f-4c1f-9470-fbb6ea590d89",
   "metadata": {},
   "outputs": [],
   "source": [
    "decision_tree_input['min_coeff_var'] = decision_tree_input[['coef_var1','coef_var2']].min(axis=1)"
   ]
  },
  {
   "cell_type": "code",
   "execution_count": 75,
   "id": "9adebf28-2d1b-4547-b314-bd08043a84d7",
   "metadata": {},
   "outputs": [],
   "source": [
    "#decision_tree_input['min_mean_coeff_var'] = decision_tree_input[['gene1_mean_coef_var','gene2_mean_coef_var']].min(axis=1)"
   ]
  },
  {
   "cell_type": "code",
   "execution_count": 76,
   "id": "04dba13b-7ff5-4136-9589-c16cc4324a0f",
   "metadata": {},
   "outputs": [
    {
     "name": "stderr",
     "output_type": "stream",
     "text": [
      "/tmp/ipykernel_2045421/983776408.py:2: FutureWarning: ChainedAssignmentError: behaviour will change in pandas 3.0!\n",
      "You are setting values through chained assignment. Currently this works in certain cases, but when using Copy-on-Write (which will become the default behaviour in pandas 3.0) this will never work to update the original DataFrame or Series, because the intermediate object on which we are setting values will behave as a copy.\n",
      "A typical example is when you are setting values in a column of a DataFrame, like:\n",
      "\n",
      "df[\"col\"][row_indexer] = value\n",
      "\n",
      "Use `df.loc[row_indexer, \"col\"] = values` instead, to perform the assignment in a single step and ensure this keeps updating the original `df`.\n",
      "\n",
      "See the caveats in the documentation: https://pandas.pydata.org/pandas-docs/stable/user_guide/indexing.html#returning-a-view-versus-a-copy\n",
      "\n",
      "  decision_tree_input['mean_expression_e_gene'][decision_tree_input['is_egene_x'] == 1] = decision_tree_input['gene1_mean_expression'][decision_tree_input['is_egene_x'] == 1]\n",
      "/tmp/ipykernel_2045421/983776408.py:2: SettingWithCopyWarning: \n",
      "A value is trying to be set on a copy of a slice from a DataFrame\n",
      "\n",
      "See the caveats in the documentation: https://pandas.pydata.org/pandas-docs/stable/user_guide/indexing.html#returning-a-view-versus-a-copy\n",
      "  decision_tree_input['mean_expression_e_gene'][decision_tree_input['is_egene_x'] == 1] = decision_tree_input['gene1_mean_expression'][decision_tree_input['is_egene_x'] == 1]\n",
      "/tmp/ipykernel_2045421/983776408.py:2: FutureWarning: Setting an item of incompatible dtype is deprecated and will raise an error in a future version of pandas. Value '[0.01865922 0.01865922 0.01865922 ... 0.07764527 0.07764527 0.07764527]' has dtype incompatible with int64, please explicitly cast to a compatible dtype first.\n",
      "  decision_tree_input['mean_expression_e_gene'][decision_tree_input['is_egene_x'] == 1] = decision_tree_input['gene1_mean_expression'][decision_tree_input['is_egene_x'] == 1]\n"
     ]
    }
   ],
   "source": [
    "decision_tree_input['mean_expression_e_gene'] = 0\n",
    "decision_tree_input['mean_expression_e_gene'][decision_tree_input['is_egene_x'] == 1] = decision_tree_input['gene1_mean_expression'][decision_tree_input['is_egene_x'] == 1]\n",
    "decision_tree_input['mean_expression_e_gene'][decision_tree_input['is_egene_y'] == 1] = decision_tree_input['gene2_mean_expression'][decision_tree_input['is_egene_y'] == 1]"
   ]
  },
  {
   "cell_type": "code",
   "execution_count": 77,
   "id": "32ee5deb-9c02-4772-a8c0-5a2010acfa0d",
   "metadata": {},
   "outputs": [
    {
     "name": "stderr",
     "output_type": "stream",
     "text": [
      "/tmp/ipykernel_2045421/1372922403.py:2: FutureWarning: ChainedAssignmentError: behaviour will change in pandas 3.0!\n",
      "You are setting values through chained assignment. Currently this works in certain cases, but when using Copy-on-Write (which will become the default behaviour in pandas 3.0) this will never work to update the original DataFrame or Series, because the intermediate object on which we are setting values will behave as a copy.\n",
      "A typical example is when you are setting values in a column of a DataFrame, like:\n",
      "\n",
      "df[\"col\"][row_indexer] = value\n",
      "\n",
      "Use `df.loc[row_indexer, \"col\"] = values` instead, to perform the assignment in a single step and ensure this keeps updating the original `df`.\n",
      "\n",
      "See the caveats in the documentation: https://pandas.pydata.org/pandas-docs/stable/user_guide/indexing.html#returning-a-view-versus-a-copy\n",
      "\n",
      "  decision_tree_input['mean_expression_coe_gene'][decision_tree_input['is_egene_x'] == 1] = decision_tree_input['gene2_mean_expression'][decision_tree_input['is_egene_x'] == 1]\n",
      "/tmp/ipykernel_2045421/1372922403.py:2: SettingWithCopyWarning: \n",
      "A value is trying to be set on a copy of a slice from a DataFrame\n",
      "\n",
      "See the caveats in the documentation: https://pandas.pydata.org/pandas-docs/stable/user_guide/indexing.html#returning-a-view-versus-a-copy\n",
      "  decision_tree_input['mean_expression_coe_gene'][decision_tree_input['is_egene_x'] == 1] = decision_tree_input['gene2_mean_expression'][decision_tree_input['is_egene_x'] == 1]\n",
      "/tmp/ipykernel_2045421/1372922403.py:2: FutureWarning: Setting an item of incompatible dtype is deprecated and will raise an error in a future version of pandas. Value '[0.01445077 0.02012966 0.01237136 ... 0.05073514 0.06701317 0.06701317]' has dtype incompatible with int64, please explicitly cast to a compatible dtype first.\n",
      "  decision_tree_input['mean_expression_coe_gene'][decision_tree_input['is_egene_x'] == 1] = decision_tree_input['gene2_mean_expression'][decision_tree_input['is_egene_x'] == 1]\n"
     ]
    }
   ],
   "source": [
    "decision_tree_input['mean_expression_coe_gene'] = 0\n",
    "decision_tree_input['mean_expression_coe_gene'][decision_tree_input['is_egene_x'] == 1] = decision_tree_input['gene2_mean_expression'][decision_tree_input['is_egene_x'] == 1]\n",
    "decision_tree_input['mean_expression_coe_gene'][decision_tree_input['is_egene_y'] == 1] = decision_tree_input['gene1_mean_expression'][decision_tree_input['is_egene_y'] == 1]"
   ]
  },
  {
   "cell_type": "code",
   "execution_count": 78,
   "id": "5192fa9f-bfcc-4199-b1db-84b4eaeda9a8",
   "metadata": {},
   "outputs": [],
   "source": [
    "#decision_tree_input[['gene1', 'gene2', 'is_coeqtl_x','is_coeqtl_y', 'gene1_mean_expression', 'gene2_mean_expression', 'mean_expression_e_gene', 'mean_expression_coe_gene']]"
   ]
  },
  {
   "cell_type": "code",
   "execution_count": 79,
   "id": "ad0ca604-a3fa-47a5-bc96-26d01570f802",
   "metadata": {},
   "outputs": [
    {
     "data": {
      "text/plain": [
       "Index(['feature_id', 'is_coeqtl', 'snp_id', 'is_egene_y', 'is_egene_x',\n",
       "       'Unnamed: 0.1', 'gene_pair', 'mean_correlation', 'mean_abs_correlation',\n",
       "       'var_correlation', 'max_correlation', 'n_NA', 'n_not_NA',\n",
       "       'n_significant', 'weighted_variance', 'perc_significant',\n",
       "       'weighted_var_div_mean', 'gene1', 'gene2', 'gene1_Unnamed: 0',\n",
       "       'gene1_gene', 'gene1_mean_expression',\n",
       "       'gene1_sd_sample_mean_expression', 'gene1_mean_variance',\n",
       "       'gene1_sd_sample_variance', 'gene1_sum_non_zero', 'gene1_mean_non_zero',\n",
       "       'gene1_mean_percentage_zero', 'gene1_sum_zero', 'gene1_mean_zero',\n",
       "       'gene1_mean_coef_var', 'gene2_Unnamed: 0', 'gene2_gene',\n",
       "       'gene2_mean_expression', 'gene2_sd_sample_mean_expression',\n",
       "       'gene2_mean_variance', 'gene2_sd_sample_variance', 'gene2_sum_non_zero',\n",
       "       'gene2_mean_non_zero', 'gene2_mean_percentage_zero', 'gene2_sum_zero',\n",
       "       'gene2_mean_zero', 'gene2_mean_coef_var', 'Unnamed: 0_x', 'n_sample',\n",
       "       'mean_paired_non_zero', 'mean_paired_zero', 'mean_zero_one_cell',\n",
       "       'mean_non_zero_one_cell', 'Unnamed: 0_y', 'QTL_beta', 'QTL_p_value',\n",
       "       'eGene', 'abs_QTL_beta', 'mean_expression', 'mean_variance',\n",
       "       'mean_sum_non_zero', 'mean_mean_percentage_zero', 'min_mean_expression',\n",
       "       'min_mean_variance', 'min_sum_non_zero', 'max_mean_percentage_zero',\n",
       "       'coef_var1', 'coef_var2', 'min_coeff_var', 'mean_expression_e_gene',\n",
       "       'mean_expression_coe_gene'],\n",
       "      dtype='object')"
      ]
     },
     "execution_count": 79,
     "metadata": {},
     "output_type": "execute_result"
    }
   ],
   "source": [
    "decision_tree_input.columns"
   ]
  },
  {
   "cell_type": "code",
   "execution_count": 80,
   "id": "cf5581e1-4044-43a6-b437-762b65bae6ee",
   "metadata": {},
   "outputs": [],
   "source": [
    "## Check correlation of features\n",
    "#cor_mat = decision_tree_input[['p_value', 'min_mean_variance', 'max_mean_percentage_zero', 'min_sum_non_zero', \n",
    "#                              'min_mean_expression', 'mean_mean_percentage_zero', 'mean_sum_non_zero','mean_variance',\n",
    "#                              'mean_expression', 'mean_correlation' , 'n_significant']].corr()"
   ]
  },
  {
   "cell_type": "code",
   "execution_count": 81,
   "id": "7498ec71-bfe3-4d32-bbbe-d1690de16070",
   "metadata": {},
   "outputs": [],
   "source": [
    "#plt.figure(figsize=(20,12)) \n",
    "#sns.heatmap(cor_mat, annot=True,  cmap=\"PiYG\")"
   ]
  },
  {
   "cell_type": "code",
   "execution_count": 82,
   "id": "0498186a-5d47-4b81-ab73-69d11e4dbdf7",
   "metadata": {},
   "outputs": [],
   "source": [
    "# backup\n",
    "decision_tree_data = decision_tree_input"
   ]
  },
  {
   "cell_type": "code",
   "execution_count": 83,
   "id": "a24fd24e-79da-4711-a17e-3bf938be7d88",
   "metadata": {},
   "outputs": [],
   "source": [
    "### determine ordering of data\n",
    "decision_tree_data = pd.merge(decision_tree_data, ordering, left_on=['feature_id', 'snp_id'], right_on=['feature_id', 'snp_id'], how='left')\n",
    "decision_tree_data = decision_tree_data.sort_values(by = 'seq')"
   ]
  },
  {
   "cell_type": "code",
   "execution_count": 84,
   "id": "ab46eef9-11e1-4375-b86c-64121c9d9220",
   "metadata": {},
   "outputs": [],
   "source": [
    "decision_tree_input = decision_tree_data"
   ]
  },
  {
   "cell_type": "code",
   "execution_count": 85,
   "id": "043b4297-970e-47fe-b748-d96d17722894",
   "metadata": {},
   "outputs": [
    {
     "data": {
      "text/plain": [
       "Index(['feature_id', 'is_coeqtl', 'snp_id', 'is_egene_y', 'is_egene_x',\n",
       "       'Unnamed: 0.1', 'gene_pair', 'mean_correlation', 'mean_abs_correlation',\n",
       "       'var_correlation', 'max_correlation', 'n_NA', 'n_not_NA',\n",
       "       'n_significant', 'weighted_variance', 'perc_significant',\n",
       "       'weighted_var_div_mean', 'gene1', 'gene2', 'gene1_Unnamed: 0',\n",
       "       'gene1_gene', 'gene1_mean_expression',\n",
       "       'gene1_sd_sample_mean_expression', 'gene1_mean_variance',\n",
       "       'gene1_sd_sample_variance', 'gene1_sum_non_zero', 'gene1_mean_non_zero',\n",
       "       'gene1_mean_percentage_zero', 'gene1_sum_zero', 'gene1_mean_zero',\n",
       "       'gene1_mean_coef_var', 'gene2_Unnamed: 0', 'gene2_gene',\n",
       "       'gene2_mean_expression', 'gene2_sd_sample_mean_expression',\n",
       "       'gene2_mean_variance', 'gene2_sd_sample_variance', 'gene2_sum_non_zero',\n",
       "       'gene2_mean_non_zero', 'gene2_mean_percentage_zero', 'gene2_sum_zero',\n",
       "       'gene2_mean_zero', 'gene2_mean_coef_var', 'Unnamed: 0_x', 'n_sample',\n",
       "       'mean_paired_non_zero', 'mean_paired_zero', 'mean_zero_one_cell',\n",
       "       'mean_non_zero_one_cell', 'Unnamed: 0_y', 'QTL_beta', 'QTL_p_value',\n",
       "       'eGene', 'abs_QTL_beta', 'mean_expression', 'mean_variance',\n",
       "       'mean_sum_non_zero', 'mean_mean_percentage_zero', 'min_mean_expression',\n",
       "       'min_mean_variance', 'min_sum_non_zero', 'max_mean_percentage_zero',\n",
       "       'coef_var1', 'coef_var2', 'min_coeff_var', 'mean_expression_e_gene',\n",
       "       'mean_expression_coe_gene', 'seq'],\n",
       "      dtype='object')"
      ]
     },
     "execution_count": 85,
     "metadata": {},
     "output_type": "execute_result"
    }
   ],
   "source": [
    "decision_tree_input.columns"
   ]
  },
  {
   "cell_type": "code",
   "execution_count": 86,
   "id": "72bd3413-438f-4354-a356-a8af8e8f1385",
   "metadata": {
    "tags": []
   },
   "outputs": [],
   "source": [
    "## select which columsn to use as features\n",
    "features = [ 'is_coeqtl', \n",
    "            'mean_abs_correlation', \n",
    "            'var_correlation', 'weighted_variance', 'weighted_var_div_mean',\n",
    "            'n_NA', 'n_not_NA', 'perc_significant',# 'n_significant',  # correlation statistics\n",
    "             'mean_zero_one_cell', 'mean_paired_zero', 'mean_paired_non_zero',   # paired expression statistics\n",
    "          #  'gene1_mean_expression',   'gene1_mean_non_zero' , 'gene1_mean_percentage_zero',  'gene1_sum_non_zero','gene1_sum_zero', 'gene1_mean_variance',#'gene1_sd_sample_mean_expression' ,  # single gene statistics\n",
    "          # 'gene2_mean_expression',   'gene2_mean_non_zero', 'gene2_mean_percentage_zero' , 'gene2_sum_non_zero','gene2_sum_zero',    'gene2_mean_variance',#'gene2_sd_sample_mean_expression',\n",
    "           #'QTL_beta', \n",
    "            'abs_QTL_beta' ,# 'QTL_p_value',\n",
    "           'min_mean_expression', \n",
    "         #   'mean_sum_non_zero', 'mean_mean_percentage_zero', 'mean_variance',\n",
    "         #   'mean_expression',\n",
    "            'min_mean_variance',#,\n",
    "            #'min_mean_coeff_var',#,\n",
    "            'min_sum_non_zero',  \n",
    "           'mean_expression_coe_gene', 'mean_expression_e_gene',\n",
    "           'max_mean_percentage_zero' # max mean percentage zero is chosen when using normalized\n",
    "           ]"
   ]
  },
  {
   "cell_type": "code",
   "execution_count": 124,
   "id": "fb77ca55-826c-48d3-95cc-b26322b66987",
   "metadata": {},
   "outputs": [],
   "source": [
    "features = [ 'is_coeqtl', \n",
    "            'abs_QTL_beta' # 'QTL_p_value',\n",
    "           ]"
   ]
  },
  {
   "cell_type": "code",
   "execution_count": 125,
   "id": "77337acc-a4fa-4732-8c59-f05de83a71e6",
   "metadata": {},
   "outputs": [],
   "source": [
    "decision_tree_input = decision_tree_input[features]"
   ]
  },
  {
   "cell_type": "code",
   "execution_count": 126,
   "id": "2f296c92-82fe-41ab-a792-d76f82ddc52f",
   "metadata": {},
   "outputs": [
    {
     "data": {
      "text/html": [
       "<div>\n",
       "<style scoped>\n",
       "    .dataframe tbody tr th:only-of-type {\n",
       "        vertical-align: middle;\n",
       "    }\n",
       "\n",
       "    .dataframe tbody tr th {\n",
       "        vertical-align: top;\n",
       "    }\n",
       "\n",
       "    .dataframe thead th {\n",
       "        text-align: right;\n",
       "    }\n",
       "</style>\n",
       "<table border=\"1\" class=\"dataframe\">\n",
       "  <thead>\n",
       "    <tr style=\"text-align: right;\">\n",
       "      <th></th>\n",
       "      <th>is_coeqtl</th>\n",
       "      <th>abs_QTL_beta</th>\n",
       "    </tr>\n",
       "  </thead>\n",
       "  <tbody>\n",
       "    <tr>\n",
       "      <th>0</th>\n",
       "      <td>False</td>\n",
       "      <td>0.151279</td>\n",
       "    </tr>\n",
       "    <tr>\n",
       "      <th>1</th>\n",
       "      <td>False</td>\n",
       "      <td>0.234117</td>\n",
       "    </tr>\n",
       "    <tr>\n",
       "      <th>2</th>\n",
       "      <td>False</td>\n",
       "      <td>0.151279</td>\n",
       "    </tr>\n",
       "    <tr>\n",
       "      <th>3</th>\n",
       "      <td>False</td>\n",
       "      <td>0.356225</td>\n",
       "    </tr>\n",
       "    <tr>\n",
       "      <th>4</th>\n",
       "      <td>False</td>\n",
       "      <td>0.180888</td>\n",
       "    </tr>\n",
       "    <tr>\n",
       "      <th>...</th>\n",
       "      <td>...</td>\n",
       "      <td>...</td>\n",
       "    </tr>\n",
       "    <tr>\n",
       "      <th>30326346</th>\n",
       "      <td>False</td>\n",
       "      <td>0.223841</td>\n",
       "    </tr>\n",
       "    <tr>\n",
       "      <th>30326347</th>\n",
       "      <td>False</td>\n",
       "      <td>0.130893</td>\n",
       "    </tr>\n",
       "    <tr>\n",
       "      <th>30326348</th>\n",
       "      <td>False</td>\n",
       "      <td>0.223841</td>\n",
       "    </tr>\n",
       "    <tr>\n",
       "      <th>30326349</th>\n",
       "      <td>False</td>\n",
       "      <td>0.130893</td>\n",
       "    </tr>\n",
       "    <tr>\n",
       "      <th>30326350</th>\n",
       "      <td>False</td>\n",
       "      <td>0.249754</td>\n",
       "    </tr>\n",
       "  </tbody>\n",
       "</table>\n",
       "<p>30326351 rows × 2 columns</p>\n",
       "</div>"
      ],
      "text/plain": [
       "          is_coeqtl  abs_QTL_beta\n",
       "0             False      0.151279\n",
       "1             False      0.234117\n",
       "2             False      0.151279\n",
       "3             False      0.356225\n",
       "4             False      0.180888\n",
       "...             ...           ...\n",
       "30326346      False      0.223841\n",
       "30326347      False      0.130893\n",
       "30326348      False      0.223841\n",
       "30326349      False      0.130893\n",
       "30326350      False      0.249754\n",
       "\n",
       "[30326351 rows x 2 columns]"
      ]
     },
     "execution_count": 126,
     "metadata": {},
     "output_type": "execute_result"
    }
   ],
   "source": [
    "decision_tree_input"
   ]
  },
  {
   "cell_type": "code",
   "execution_count": 127,
   "id": "13aa87f8-f651-4449-9120-4fb9de4b1b35",
   "metadata": {},
   "outputs": [],
   "source": [
    "#decision_tree_input[decision_tree_input['mean_paired_zero'].isna()]  # check paired calculated for all"
   ]
  },
  {
   "cell_type": "code",
   "execution_count": 128,
   "id": "d2267a88-2386-4d64-b631-4a3cdf9fc081",
   "metadata": {},
   "outputs": [],
   "source": [
    "#decision_tree_input_regression"
   ]
  },
  {
   "cell_type": "code",
   "execution_count": 129,
   "id": "91278699-66ba-463e-a100-a5c1575e1568",
   "metadata": {},
   "outputs": [],
   "source": [
    "### Optional: filter out Nan"
   ]
  },
  {
   "cell_type": "code",
   "execution_count": 130,
   "id": "cac2dbbb-e849-4f31-9c7c-22a907f1bee9",
   "metadata": {},
   "outputs": [],
   "source": [
    "#decision_tree_input = decision_tree_input[decision_tree_input['mean_paired_zero'].notna()]"
   ]
  },
  {
   "cell_type": "code",
   "execution_count": 131,
   "id": "76be6654-aaa3-4d80-be1b-b17b3b1a6e0a",
   "metadata": {},
   "outputs": [],
   "source": [
    "#decision_tree_input"
   ]
  },
  {
   "cell_type": "code",
   "execution_count": 132,
   "id": "80bcee65-aca6-4d7d-a62c-e41e8c271d80",
   "metadata": {},
   "outputs": [],
   "source": [
    "## Check correlation of features\n",
    "#cor_mat = decision_tree_input.corr()"
   ]
  },
  {
   "cell_type": "code",
   "execution_count": 133,
   "id": "781ff6da-e91f-41b2-b975-12fe99cf2f03",
   "metadata": {},
   "outputs": [],
   "source": [
    "#plt.figure(figsize=(20,12)) \n",
    "#sns.heatmap(cor_mat, annot=True,  cmap=\"PiYG\")"
   ]
  },
  {
   "cell_type": "code",
   "execution_count": 134,
   "id": "97eec6c8-2e83-49c2-adf0-b8a550a4803c",
   "metadata": {},
   "outputs": [
    {
     "data": {
      "text/plain": [
       "1029"
      ]
     },
     "execution_count": 134,
     "metadata": {},
     "output_type": "execute_result"
    }
   ],
   "source": [
    "## Amount co-eQTLs\n",
    "sum(decision_tree_input['is_coeqtl'])"
   ]
  },
  {
   "cell_type": "markdown",
   "id": "688db065-d673-48eb-a852-419d2a6e809d",
   "metadata": {},
   "source": [
    "# Decision Tree (Classification)"
   ]
  },
  {
   "cell_type": "markdown",
   "id": "4039c728-19b8-4dd3-a5a2-ab77cc5ea869",
   "metadata": {
    "tags": []
   },
   "source": [
    "## Prepare data & run  model"
   ]
  },
  {
   "cell_type": "code",
   "execution_count": 135,
   "id": "59384c0b-8e37-4de9-bd67-6db88b89da73",
   "metadata": {},
   "outputs": [],
   "source": [
    "# Convert the DataFrame to a Bunch object (in this case column 5 was the 'coeqtl' column which contained True, False values to assign whether it is a coeqtl)\n",
    "\n",
    "metrics=[i for i in range(0,len([i for i in decision_tree_input])) if i !=0]\n"
   ]
  },
  {
   "cell_type": "code",
   "execution_count": 136,
   "id": "898a6443-ae95-4ece-bd36-921b2a20adef",
   "metadata": {},
   "outputs": [
    {
     "data": {
      "text/plain": [
       "1"
      ]
     },
     "execution_count": 136,
     "metadata": {},
     "output_type": "execute_result"
    }
   ],
   "source": [
    "len(metrics)"
   ]
  },
  {
   "cell_type": "code",
   "execution_count": 137,
   "id": "cbfac3c5-3402-4768-ab97-07162d95f459",
   "metadata": {},
   "outputs": [],
   "source": [
    "#decision_tree_input.iloc[:,metrics]"
   ]
  },
  {
   "cell_type": "code",
   "execution_count": 138,
   "id": "66ae7f03-e2fc-4ca1-8c31-c04c5aac6d2f",
   "metadata": {},
   "outputs": [],
   "source": [
    "#decision_tree_input.iloc[metrics]"
   ]
  },
  {
   "cell_type": "code",
   "execution_count": 139,
   "id": "7476e1d4-1a79-49ca-aa16-538290b51eda",
   "metadata": {},
   "outputs": [],
   "source": [
    "coeQtls_bunch = Bunch(data= decision_tree_input.iloc[:,metrics].values, target=decision_tree_input.is_coeqtl)"
   ]
  },
  {
   "cell_type": "code",
   "execution_count": 140,
   "id": "1815cab0-bd07-4ccd-ab29-099092d5dde4",
   "metadata": {},
   "outputs": [],
   "source": [
    "#coeQtls_bunch"
   ]
  },
  {
   "cell_type": "code",
   "execution_count": 141,
   "id": "095233a5-1e96-4855-9d07-f49b8008d1c6",
   "metadata": {},
   "outputs": [],
   "source": [
    "# Split the data into training and testing sets\n",
    "X_train, X_test, y_train, y_test = train_test_split(coeQtls_bunch.data, coeQtls_bunch.target, test_size=0.2, random_state=42)"
   ]
  },
  {
   "cell_type": "code",
   "execution_count": 142,
   "id": "32c81e5b-2115-4e97-a6c0-961f818422d6",
   "metadata": {},
   "outputs": [
    {
     "data": {
      "text/plain": [
       "array([[0.2358323 ],\n",
       "       [0.41568605],\n",
       "       [0.14483158],\n",
       "       ...,\n",
       "       [0.1584055 ],\n",
       "       [0.34332669],\n",
       "       [0.20365406]])"
      ]
     },
     "execution_count": 142,
     "metadata": {},
     "output_type": "execute_result"
    }
   ],
   "source": [
    "X_train"
   ]
  },
  {
   "cell_type": "code",
   "execution_count": 143,
   "id": "1cd33491-e8b3-431d-ab6f-e9a4621acca8",
   "metadata": {},
   "outputs": [],
   "source": [
    "#sum(decision_tree_input['is_coeqtl'].iloc[y_test.index] == y_test)"
   ]
  },
  {
   "cell_type": "code",
   "execution_count": 144,
   "id": "7eb4b954-4544-4366-8e8a-466143931755",
   "metadata": {},
   "outputs": [],
   "source": [
    "#sum(decision_tree_input['is_coeqtl'].iloc[y_train.index] == y_train)"
   ]
  },
  {
   "cell_type": "code",
   "execution_count": 145,
   "id": "d1f77fa6-db2d-4620-ae29-302a5d9a6e11",
   "metadata": {},
   "outputs": [],
   "source": [
    "#y_test.index  # shows index of observations belonging to this group"
   ]
  },
  {
   "cell_type": "code",
   "execution_count": 146,
   "id": "39ec1b58-8b2e-40a0-942f-d078398aef5f",
   "metadata": {},
   "outputs": [],
   "source": [
    "#y_train.index # shows index of observations belonging to this group"
   ]
  },
  {
   "cell_type": "code",
   "execution_count": 178,
   "id": "a02b0487-12da-48a7-a326-272c63faa024",
   "metadata": {},
   "outputs": [],
   "source": [
    "# Create a decision tree classifier\n",
    "clf = DecisionTreeClassifier(max_depth=1,class_weight={True: 200000, False: 1}, random_state = random.seed(1)) \n"
   ]
  },
  {
   "cell_type": "code",
   "execution_count": 179,
   "id": "481b0b13-8ebe-455e-aea1-543b75473b62",
   "metadata": {},
   "outputs": [
    {
     "data": {
      "text/html": [
       "<style>#sk-container-id-4 {\n",
       "  /* Definition of color scheme common for light and dark mode */\n",
       "  --sklearn-color-text: black;\n",
       "  --sklearn-color-line: gray;\n",
       "  /* Definition of color scheme for unfitted estimators */\n",
       "  --sklearn-color-unfitted-level-0: #fff5e6;\n",
       "  --sklearn-color-unfitted-level-1: #f6e4d2;\n",
       "  --sklearn-color-unfitted-level-2: #ffe0b3;\n",
       "  --sklearn-color-unfitted-level-3: chocolate;\n",
       "  /* Definition of color scheme for fitted estimators */\n",
       "  --sklearn-color-fitted-level-0: #f0f8ff;\n",
       "  --sklearn-color-fitted-level-1: #d4ebff;\n",
       "  --sklearn-color-fitted-level-2: #b3dbfd;\n",
       "  --sklearn-color-fitted-level-3: cornflowerblue;\n",
       "\n",
       "  /* Specific color for light theme */\n",
       "  --sklearn-color-text-on-default-background: var(--sg-text-color, var(--theme-code-foreground, var(--jp-content-font-color1, black)));\n",
       "  --sklearn-color-background: var(--sg-background-color, var(--theme-background, var(--jp-layout-color0, white)));\n",
       "  --sklearn-color-border-box: var(--sg-text-color, var(--theme-code-foreground, var(--jp-content-font-color1, black)));\n",
       "  --sklearn-color-icon: #696969;\n",
       "\n",
       "  @media (prefers-color-scheme: dark) {\n",
       "    /* Redefinition of color scheme for dark theme */\n",
       "    --sklearn-color-text-on-default-background: var(--sg-text-color, var(--theme-code-foreground, var(--jp-content-font-color1, white)));\n",
       "    --sklearn-color-background: var(--sg-background-color, var(--theme-background, var(--jp-layout-color0, #111)));\n",
       "    --sklearn-color-border-box: var(--sg-text-color, var(--theme-code-foreground, var(--jp-content-font-color1, white)));\n",
       "    --sklearn-color-icon: #878787;\n",
       "  }\n",
       "}\n",
       "\n",
       "#sk-container-id-4 {\n",
       "  color: var(--sklearn-color-text);\n",
       "}\n",
       "\n",
       "#sk-container-id-4 pre {\n",
       "  padding: 0;\n",
       "}\n",
       "\n",
       "#sk-container-id-4 input.sk-hidden--visually {\n",
       "  border: 0;\n",
       "  clip: rect(1px 1px 1px 1px);\n",
       "  clip: rect(1px, 1px, 1px, 1px);\n",
       "  height: 1px;\n",
       "  margin: -1px;\n",
       "  overflow: hidden;\n",
       "  padding: 0;\n",
       "  position: absolute;\n",
       "  width: 1px;\n",
       "}\n",
       "\n",
       "#sk-container-id-4 div.sk-dashed-wrapped {\n",
       "  border: 1px dashed var(--sklearn-color-line);\n",
       "  margin: 0 0.4em 0.5em 0.4em;\n",
       "  box-sizing: border-box;\n",
       "  padding-bottom: 0.4em;\n",
       "  background-color: var(--sklearn-color-background);\n",
       "}\n",
       "\n",
       "#sk-container-id-4 div.sk-container {\n",
       "  /* jupyter's `normalize.less` sets `[hidden] { display: none; }`\n",
       "     but bootstrap.min.css set `[hidden] { display: none !important; }`\n",
       "     so we also need the `!important` here to be able to override the\n",
       "     default hidden behavior on the sphinx rendered scikit-learn.org.\n",
       "     See: https://github.com/scikit-learn/scikit-learn/issues/21755 */\n",
       "  display: inline-block !important;\n",
       "  position: relative;\n",
       "}\n",
       "\n",
       "#sk-container-id-4 div.sk-text-repr-fallback {\n",
       "  display: none;\n",
       "}\n",
       "\n",
       "div.sk-parallel-item,\n",
       "div.sk-serial,\n",
       "div.sk-item {\n",
       "  /* draw centered vertical line to link estimators */\n",
       "  background-image: linear-gradient(var(--sklearn-color-text-on-default-background), var(--sklearn-color-text-on-default-background));\n",
       "  background-size: 2px 100%;\n",
       "  background-repeat: no-repeat;\n",
       "  background-position: center center;\n",
       "}\n",
       "\n",
       "/* Parallel-specific style estimator block */\n",
       "\n",
       "#sk-container-id-4 div.sk-parallel-item::after {\n",
       "  content: \"\";\n",
       "  width: 100%;\n",
       "  border-bottom: 2px solid var(--sklearn-color-text-on-default-background);\n",
       "  flex-grow: 1;\n",
       "}\n",
       "\n",
       "#sk-container-id-4 div.sk-parallel {\n",
       "  display: flex;\n",
       "  align-items: stretch;\n",
       "  justify-content: center;\n",
       "  background-color: var(--sklearn-color-background);\n",
       "  position: relative;\n",
       "}\n",
       "\n",
       "#sk-container-id-4 div.sk-parallel-item {\n",
       "  display: flex;\n",
       "  flex-direction: column;\n",
       "}\n",
       "\n",
       "#sk-container-id-4 div.sk-parallel-item:first-child::after {\n",
       "  align-self: flex-end;\n",
       "  width: 50%;\n",
       "}\n",
       "\n",
       "#sk-container-id-4 div.sk-parallel-item:last-child::after {\n",
       "  align-self: flex-start;\n",
       "  width: 50%;\n",
       "}\n",
       "\n",
       "#sk-container-id-4 div.sk-parallel-item:only-child::after {\n",
       "  width: 0;\n",
       "}\n",
       "\n",
       "/* Serial-specific style estimator block */\n",
       "\n",
       "#sk-container-id-4 div.sk-serial {\n",
       "  display: flex;\n",
       "  flex-direction: column;\n",
       "  align-items: center;\n",
       "  background-color: var(--sklearn-color-background);\n",
       "  padding-right: 1em;\n",
       "  padding-left: 1em;\n",
       "}\n",
       "\n",
       "\n",
       "/* Toggleable style: style used for estimator/Pipeline/ColumnTransformer box that is\n",
       "clickable and can be expanded/collapsed.\n",
       "- Pipeline and ColumnTransformer use this feature and define the default style\n",
       "- Estimators will overwrite some part of the style using the `sk-estimator` class\n",
       "*/\n",
       "\n",
       "/* Pipeline and ColumnTransformer style (default) */\n",
       "\n",
       "#sk-container-id-4 div.sk-toggleable {\n",
       "  /* Default theme specific background. It is overwritten whether we have a\n",
       "  specific estimator or a Pipeline/ColumnTransformer */\n",
       "  background-color: var(--sklearn-color-background);\n",
       "}\n",
       "\n",
       "/* Toggleable label */\n",
       "#sk-container-id-4 label.sk-toggleable__label {\n",
       "  cursor: pointer;\n",
       "  display: block;\n",
       "  width: 100%;\n",
       "  margin-bottom: 0;\n",
       "  padding: 0.5em;\n",
       "  box-sizing: border-box;\n",
       "  text-align: center;\n",
       "}\n",
       "\n",
       "#sk-container-id-4 label.sk-toggleable__label-arrow:before {\n",
       "  /* Arrow on the left of the label */\n",
       "  content: \"▸\";\n",
       "  float: left;\n",
       "  margin-right: 0.25em;\n",
       "  color: var(--sklearn-color-icon);\n",
       "}\n",
       "\n",
       "#sk-container-id-4 label.sk-toggleable__label-arrow:hover:before {\n",
       "  color: var(--sklearn-color-text);\n",
       "}\n",
       "\n",
       "/* Toggleable content - dropdown */\n",
       "\n",
       "#sk-container-id-4 div.sk-toggleable__content {\n",
       "  max-height: 0;\n",
       "  max-width: 0;\n",
       "  overflow: hidden;\n",
       "  text-align: left;\n",
       "  /* unfitted */\n",
       "  background-color: var(--sklearn-color-unfitted-level-0);\n",
       "}\n",
       "\n",
       "#sk-container-id-4 div.sk-toggleable__content.fitted {\n",
       "  /* fitted */\n",
       "  background-color: var(--sklearn-color-fitted-level-0);\n",
       "}\n",
       "\n",
       "#sk-container-id-4 div.sk-toggleable__content pre {\n",
       "  margin: 0.2em;\n",
       "  border-radius: 0.25em;\n",
       "  color: var(--sklearn-color-text);\n",
       "  /* unfitted */\n",
       "  background-color: var(--sklearn-color-unfitted-level-0);\n",
       "}\n",
       "\n",
       "#sk-container-id-4 div.sk-toggleable__content.fitted pre {\n",
       "  /* unfitted */\n",
       "  background-color: var(--sklearn-color-fitted-level-0);\n",
       "}\n",
       "\n",
       "#sk-container-id-4 input.sk-toggleable__control:checked~div.sk-toggleable__content {\n",
       "  /* Expand drop-down */\n",
       "  max-height: 200px;\n",
       "  max-width: 100%;\n",
       "  overflow: auto;\n",
       "}\n",
       "\n",
       "#sk-container-id-4 input.sk-toggleable__control:checked~label.sk-toggleable__label-arrow:before {\n",
       "  content: \"▾\";\n",
       "}\n",
       "\n",
       "/* Pipeline/ColumnTransformer-specific style */\n",
       "\n",
       "#sk-container-id-4 div.sk-label input.sk-toggleable__control:checked~label.sk-toggleable__label {\n",
       "  color: var(--sklearn-color-text);\n",
       "  background-color: var(--sklearn-color-unfitted-level-2);\n",
       "}\n",
       "\n",
       "#sk-container-id-4 div.sk-label.fitted input.sk-toggleable__control:checked~label.sk-toggleable__label {\n",
       "  background-color: var(--sklearn-color-fitted-level-2);\n",
       "}\n",
       "\n",
       "/* Estimator-specific style */\n",
       "\n",
       "/* Colorize estimator box */\n",
       "#sk-container-id-4 div.sk-estimator input.sk-toggleable__control:checked~label.sk-toggleable__label {\n",
       "  /* unfitted */\n",
       "  background-color: var(--sklearn-color-unfitted-level-2);\n",
       "}\n",
       "\n",
       "#sk-container-id-4 div.sk-estimator.fitted input.sk-toggleable__control:checked~label.sk-toggleable__label {\n",
       "  /* fitted */\n",
       "  background-color: var(--sklearn-color-fitted-level-2);\n",
       "}\n",
       "\n",
       "#sk-container-id-4 div.sk-label label.sk-toggleable__label,\n",
       "#sk-container-id-4 div.sk-label label {\n",
       "  /* The background is the default theme color */\n",
       "  color: var(--sklearn-color-text-on-default-background);\n",
       "}\n",
       "\n",
       "/* On hover, darken the color of the background */\n",
       "#sk-container-id-4 div.sk-label:hover label.sk-toggleable__label {\n",
       "  color: var(--sklearn-color-text);\n",
       "  background-color: var(--sklearn-color-unfitted-level-2);\n",
       "}\n",
       "\n",
       "/* Label box, darken color on hover, fitted */\n",
       "#sk-container-id-4 div.sk-label.fitted:hover label.sk-toggleable__label.fitted {\n",
       "  color: var(--sklearn-color-text);\n",
       "  background-color: var(--sklearn-color-fitted-level-2);\n",
       "}\n",
       "\n",
       "/* Estimator label */\n",
       "\n",
       "#sk-container-id-4 div.sk-label label {\n",
       "  font-family: monospace;\n",
       "  font-weight: bold;\n",
       "  display: inline-block;\n",
       "  line-height: 1.2em;\n",
       "}\n",
       "\n",
       "#sk-container-id-4 div.sk-label-container {\n",
       "  text-align: center;\n",
       "}\n",
       "\n",
       "/* Estimator-specific */\n",
       "#sk-container-id-4 div.sk-estimator {\n",
       "  font-family: monospace;\n",
       "  border: 1px dotted var(--sklearn-color-border-box);\n",
       "  border-radius: 0.25em;\n",
       "  box-sizing: border-box;\n",
       "  margin-bottom: 0.5em;\n",
       "  /* unfitted */\n",
       "  background-color: var(--sklearn-color-unfitted-level-0);\n",
       "}\n",
       "\n",
       "#sk-container-id-4 div.sk-estimator.fitted {\n",
       "  /* fitted */\n",
       "  background-color: var(--sklearn-color-fitted-level-0);\n",
       "}\n",
       "\n",
       "/* on hover */\n",
       "#sk-container-id-4 div.sk-estimator:hover {\n",
       "  /* unfitted */\n",
       "  background-color: var(--sklearn-color-unfitted-level-2);\n",
       "}\n",
       "\n",
       "#sk-container-id-4 div.sk-estimator.fitted:hover {\n",
       "  /* fitted */\n",
       "  background-color: var(--sklearn-color-fitted-level-2);\n",
       "}\n",
       "\n",
       "/* Specification for estimator info (e.g. \"i\" and \"?\") */\n",
       "\n",
       "/* Common style for \"i\" and \"?\" */\n",
       "\n",
       ".sk-estimator-doc-link,\n",
       "a:link.sk-estimator-doc-link,\n",
       "a:visited.sk-estimator-doc-link {\n",
       "  float: right;\n",
       "  font-size: smaller;\n",
       "  line-height: 1em;\n",
       "  font-family: monospace;\n",
       "  background-color: var(--sklearn-color-background);\n",
       "  border-radius: 1em;\n",
       "  height: 1em;\n",
       "  width: 1em;\n",
       "  text-decoration: none !important;\n",
       "  margin-left: 1ex;\n",
       "  /* unfitted */\n",
       "  border: var(--sklearn-color-unfitted-level-1) 1pt solid;\n",
       "  color: var(--sklearn-color-unfitted-level-1);\n",
       "}\n",
       "\n",
       ".sk-estimator-doc-link.fitted,\n",
       "a:link.sk-estimator-doc-link.fitted,\n",
       "a:visited.sk-estimator-doc-link.fitted {\n",
       "  /* fitted */\n",
       "  border: var(--sklearn-color-fitted-level-1) 1pt solid;\n",
       "  color: var(--sklearn-color-fitted-level-1);\n",
       "}\n",
       "\n",
       "/* On hover */\n",
       "div.sk-estimator:hover .sk-estimator-doc-link:hover,\n",
       ".sk-estimator-doc-link:hover,\n",
       "div.sk-label-container:hover .sk-estimator-doc-link:hover,\n",
       ".sk-estimator-doc-link:hover {\n",
       "  /* unfitted */\n",
       "  background-color: var(--sklearn-color-unfitted-level-3);\n",
       "  color: var(--sklearn-color-background);\n",
       "  text-decoration: none;\n",
       "}\n",
       "\n",
       "div.sk-estimator.fitted:hover .sk-estimator-doc-link.fitted:hover,\n",
       ".sk-estimator-doc-link.fitted:hover,\n",
       "div.sk-label-container:hover .sk-estimator-doc-link.fitted:hover,\n",
       ".sk-estimator-doc-link.fitted:hover {\n",
       "  /* fitted */\n",
       "  background-color: var(--sklearn-color-fitted-level-3);\n",
       "  color: var(--sklearn-color-background);\n",
       "  text-decoration: none;\n",
       "}\n",
       "\n",
       "/* Span, style for the box shown on hovering the info icon */\n",
       ".sk-estimator-doc-link span {\n",
       "  display: none;\n",
       "  z-index: 9999;\n",
       "  position: relative;\n",
       "  font-weight: normal;\n",
       "  right: .2ex;\n",
       "  padding: .5ex;\n",
       "  margin: .5ex;\n",
       "  width: min-content;\n",
       "  min-width: 20ex;\n",
       "  max-width: 50ex;\n",
       "  color: var(--sklearn-color-text);\n",
       "  box-shadow: 2pt 2pt 4pt #999;\n",
       "  /* unfitted */\n",
       "  background: var(--sklearn-color-unfitted-level-0);\n",
       "  border: .5pt solid var(--sklearn-color-unfitted-level-3);\n",
       "}\n",
       "\n",
       ".sk-estimator-doc-link.fitted span {\n",
       "  /* fitted */\n",
       "  background: var(--sklearn-color-fitted-level-0);\n",
       "  border: var(--sklearn-color-fitted-level-3);\n",
       "}\n",
       "\n",
       ".sk-estimator-doc-link:hover span {\n",
       "  display: block;\n",
       "}\n",
       "\n",
       "/* \"?\"-specific style due to the `<a>` HTML tag */\n",
       "\n",
       "#sk-container-id-4 a.estimator_doc_link {\n",
       "  float: right;\n",
       "  font-size: 1rem;\n",
       "  line-height: 1em;\n",
       "  font-family: monospace;\n",
       "  background-color: var(--sklearn-color-background);\n",
       "  border-radius: 1rem;\n",
       "  height: 1rem;\n",
       "  width: 1rem;\n",
       "  text-decoration: none;\n",
       "  /* unfitted */\n",
       "  color: var(--sklearn-color-unfitted-level-1);\n",
       "  border: var(--sklearn-color-unfitted-level-1) 1pt solid;\n",
       "}\n",
       "\n",
       "#sk-container-id-4 a.estimator_doc_link.fitted {\n",
       "  /* fitted */\n",
       "  border: var(--sklearn-color-fitted-level-1) 1pt solid;\n",
       "  color: var(--sklearn-color-fitted-level-1);\n",
       "}\n",
       "\n",
       "/* On hover */\n",
       "#sk-container-id-4 a.estimator_doc_link:hover {\n",
       "  /* unfitted */\n",
       "  background-color: var(--sklearn-color-unfitted-level-3);\n",
       "  color: var(--sklearn-color-background);\n",
       "  text-decoration: none;\n",
       "}\n",
       "\n",
       "#sk-container-id-4 a.estimator_doc_link.fitted:hover {\n",
       "  /* fitted */\n",
       "  background-color: var(--sklearn-color-fitted-level-3);\n",
       "}\n",
       "</style><div id=\"sk-container-id-4\" class=\"sk-top-container\"><div class=\"sk-text-repr-fallback\"><pre>DecisionTreeClassifier(class_weight={False: 1, True: 200000}, max_depth=1)</pre><b>In a Jupyter environment, please rerun this cell to show the HTML representation or trust the notebook. <br />On GitHub, the HTML representation is unable to render, please try loading this page with nbviewer.org.</b></div><div class=\"sk-container\" hidden><div class=\"sk-item\"><div class=\"sk-estimator fitted sk-toggleable\"><input class=\"sk-toggleable__control sk-hidden--visually\" id=\"sk-estimator-id-4\" type=\"checkbox\" checked><label for=\"sk-estimator-id-4\" class=\"sk-toggleable__label fitted sk-toggleable__label-arrow fitted\">&nbsp;&nbsp;DecisionTreeClassifier<a class=\"sk-estimator-doc-link fitted\" rel=\"noreferrer\" target=\"_blank\" href=\"https://scikit-learn.org/1.5/modules/generated/sklearn.tree.DecisionTreeClassifier.html\">?<span>Documentation for DecisionTreeClassifier</span></a><span class=\"sk-estimator-doc-link fitted\">i<span>Fitted</span></span></label><div class=\"sk-toggleable__content fitted\"><pre>DecisionTreeClassifier(class_weight={False: 1, True: 200000}, max_depth=1)</pre></div> </div></div></div></div>"
      ],
      "text/plain": [
       "DecisionTreeClassifier(class_weight={False: 1, True: 200000}, max_depth=1)"
      ]
     },
     "execution_count": 179,
     "metadata": {},
     "output_type": "execute_result"
    }
   ],
   "source": [
    "# Train the classifier on the training data\n",
    "clf.fit(X_train, y_train)"
   ]
  },
  {
   "cell_type": "code",
   "execution_count": null,
   "id": "653ed487-157e-42f3-9eec-2e9249eaff8e",
   "metadata": {},
   "outputs": [],
   "source": []
  },
  {
   "cell_type": "code",
   "execution_count": 180,
   "id": "2f145f29-fc16-4ebc-b300-6ac3be6ce5ee",
   "metadata": {
    "tags": []
   },
   "outputs": [],
   "source": [
    "## Importance scores"
   ]
  },
  {
   "cell_type": "code",
   "execution_count": 181,
   "id": "371b371e-bb90-4937-b30e-a5d28cc62269",
   "metadata": {},
   "outputs": [
    {
     "name": "stdout",
     "output_type": "stream",
     "text": [
      "Score: 1.00000 Feature 1:abs_QTL_beta\n"
     ]
    }
   ],
   "source": [
    "\n",
    "for i, score in enumerate(clf.feature_importances_):\n",
    "    print(f\"Score: {score:.5f} Feature {metrics[i]}:{decision_tree_input.columns[metrics[i]]}\")"
   ]
  },
  {
   "cell_type": "code",
   "execution_count": 182,
   "id": "073415dc-8902-465e-9b8f-b3f8f78b0862",
   "metadata": {},
   "outputs": [
    {
     "data": {
      "text/plain": [
       "array([1.])"
      ]
     },
     "execution_count": 182,
     "metadata": {},
     "output_type": "execute_result"
    }
   ],
   "source": [
    "clf.feature_importances_"
   ]
  },
  {
   "cell_type": "code",
   "execution_count": 183,
   "id": "acd94b05-363d-4c2a-b347-a314e8859ead",
   "metadata": {},
   "outputs": [
    {
     "data": {
      "text/plain": [
       "1"
      ]
     },
     "execution_count": 183,
     "metadata": {},
     "output_type": "execute_result"
    }
   ],
   "source": [
    "len(clf.feature_importances_)"
   ]
  },
  {
   "cell_type": "markdown",
   "id": "18dba60d-d9eb-4110-87e6-292d4d7b2321",
   "metadata": {
    "tags": []
   },
   "source": [
    "## Evaluate for training data"
   ]
  },
  {
   "cell_type": "code",
   "execution_count": null,
   "id": "609c381a-883c-4805-9f7f-3372722f6fdf",
   "metadata": {},
   "outputs": [],
   "source": []
  },
  {
   "cell_type": "code",
   "execution_count": null,
   "id": "ded6f59e-ad33-49d6-b3d1-f46f2de362a7",
   "metadata": {},
   "outputs": [],
   "source": []
  },
  {
   "cell_type": "code",
   "execution_count": 184,
   "id": "0d380c71-4a7a-48c1-89f3-6e01f8347cdf",
   "metadata": {},
   "outputs": [
    {
     "data": {
      "text/plain": [
       "(24261080, 1)"
      ]
     },
     "execution_count": 184,
     "metadata": {},
     "output_type": "execute_result"
    }
   ],
   "source": [
    "X_train.shape"
   ]
  },
  {
   "cell_type": "code",
   "execution_count": 185,
   "id": "7ad5ed26-d35d-4286-a2f0-bf6aeeac094d",
   "metadata": {},
   "outputs": [
    {
     "data": {
      "text/plain": [
       "(6065271, 1)"
      ]
     },
     "execution_count": 185,
     "metadata": {},
     "output_type": "execute_result"
    }
   ],
   "source": [
    "X_test.shape"
   ]
  },
  {
   "cell_type": "code",
   "execution_count": 186,
   "id": "0b9677b5-9738-4035-b27f-0ff3f844369d",
   "metadata": {},
   "outputs": [],
   "source": [
    "# Test the classifier on the training data\n",
    "y_pred_train = clf.predict(X_train)"
   ]
  },
  {
   "cell_type": "code",
   "execution_count": 187,
   "id": "54d3ddaa-bf01-46a3-88a5-f06a38b48eee",
   "metadata": {},
   "outputs": [],
   "source": [
    "# Compute the confusion matrix\n",
    "cm_train = confusion_matrix(y_train,y_pred_train)"
   ]
  },
  {
   "cell_type": "code",
   "execution_count": 188,
   "id": "8f7372a6-d783-416b-8db4-8c7b5c4ae2e3",
   "metadata": {},
   "outputs": [
    {
     "data": {
      "text/plain": [
       "array([[20269187,  3991072],\n",
       "       [      95,      726]])"
      ]
     },
     "execution_count": 188,
     "metadata": {},
     "output_type": "execute_result"
    }
   ],
   "source": [
    "cm_train   # second row: 'true_coeqtls'; first row: 'no_coeqtls'; first column predicted no co-eqtl; second column: predicted co-eqts"
   ]
  },
  {
   "cell_type": "code",
   "execution_count": 189,
   "id": "3dff327b-b327-4c46-b32d-4175d6d92cf3",
   "metadata": {},
   "outputs": [],
   "source": [
    "# Compute the accuracy for each class\n",
    "accuracies_train = cm_train.diagonal() / cm_train.sum(axis=1)"
   ]
  },
  {
   "cell_type": "code",
   "execution_count": 190,
   "id": "3fee0a29-f5eb-48cf-a593-d429c3b126a3",
   "metadata": {},
   "outputs": [
    {
     "name": "stdout",
     "output_type": "stream",
     "text": [
      "Accuracy for class 0: 0.84\n",
      "Accuracy for class 1: 0.88\n"
     ]
    }
   ],
   "source": [
    "# Print the accuracies\n",
    "for i, accuracy in enumerate(accuracies_train):\n",
    "    print(f\"Accuracy for class {i}: {accuracy:.2f}\")"
   ]
  },
  {
   "cell_type": "code",
   "execution_count": 191,
   "id": "c68b168f-cf89-4cd0-b376-93828e391ea1",
   "metadata": {},
   "outputs": [],
   "source": [
    "## Plot the tree"
   ]
  },
  {
   "cell_type": "code",
   "execution_count": 192,
   "id": "10b1c969-7637-4857-b214-6f75b491d8c0",
   "metadata": {},
   "outputs": [
    {
     "data": {
      "image/png": "[encoded data removed]",
      "text/plain": [
       "<Figure size 532.8x360 with 1 Axes>"
      ]
     },
     "metadata": {
      "needs_background": "light"
     },
     "output_type": "display_data"
    }
   ],
   "source": [
    "plt.figure(figsize=(7.4,5)) \n",
    "plot_tree(clf, fontsize = 10, feature_names = decision_tree_input.columns[metrics], filled = True, proportion  = False)\n",
    "\n",
    "# Save the plot as a PDF\n",
    "plt.savefig(\"figures/F7/F7_decision_tree.pdf\", format=\"pdf\", bbox_inches=\"tight\")"
   ]
  },
  {
   "cell_type": "code",
   "execution_count": 177,
   "id": "d6232d35-ad69-4da1-a6c8-63a60d001d3b",
   "metadata": {},
   "outputs": [
    {
     "data": {
      "text/plain": [
       "array([ 0.34259091, -2.        , -2.        ])"
      ]
     },
     "execution_count": 177,
     "metadata": {},
     "output_type": "execute_result"
    }
   ],
   "source": [
    "## Get the exact thresholds\n",
    "clf.tree_.threshold\n"
   ]
  },
  {
   "cell_type": "code",
   "execution_count": null,
   "id": "4c509f8a-809a-4e5b-86d3-f0fae1616a02",
   "metadata": {},
   "outputs": [],
   "source": []
  },
  {
   "cell_type": "markdown",
   "id": "300beee8-1a2c-4cb6-8fc4-a1bab7b4559e",
   "metadata": {
    "tags": []
   },
   "source": [
    "## Evaluate for testing data"
   ]
  },
  {
   "cell_type": "code",
   "execution_count": 128,
   "id": "640d6d8b-cc5d-4bcc-bef2-236736ee441d",
   "metadata": {},
   "outputs": [],
   "source": [
    "# Test the classifier on the testing data\n",
    "y_pred = clf.predict(X_test)"
   ]
  },
  {
   "cell_type": "code",
   "execution_count": 129,
   "id": "ecd20d4c-0156-404b-8781-a86f11bc8955",
   "metadata": {},
   "outputs": [],
   "source": [
    "# Compute the accuracy of the classifier's predictions\n",
    "accuracy = accuracy_score(y_test, y_pred)"
   ]
  },
  {
   "cell_type": "code",
   "execution_count": 130,
   "id": "62f4afce-e45b-4391-a113-cbac24ac6057",
   "metadata": {},
   "outputs": [
    {
     "name": "stdout",
     "output_type": "stream",
     "text": [
      "Accuracy: 0.50\n"
     ]
    }
   ],
   "source": [
    "# Print the accuracy\n",
    "print(f\"Accuracy: {accuracy:.2f}\")"
   ]
  },
  {
   "cell_type": "code",
   "execution_count": 131,
   "id": "4f0c82d3-174d-4b7f-bc0b-aa0d355f6302",
   "metadata": {},
   "outputs": [
    {
     "data": {
      "text/plain": [
       "208"
      ]
     },
     "execution_count": 131,
     "metadata": {},
     "output_type": "execute_result"
    }
   ],
   "source": [
    "sum(y_test)"
   ]
  },
  {
   "cell_type": "code",
   "execution_count": 132,
   "id": "78e98bbe-efe4-4750-bad3-bf36f756a477",
   "metadata": {},
   "outputs": [
    {
     "data": {
      "text/plain": [
       "3030767"
      ]
     },
     "execution_count": 132,
     "metadata": {},
     "output_type": "execute_result"
    }
   ],
   "source": [
    "sum(y_pred == True)"
   ]
  },
  {
   "cell_type": "code",
   "execution_count": 133,
   "id": "d3549072-b6b0-493e-bc46-fffec6b71cdb",
   "metadata": {},
   "outputs": [
    {
     "data": {
      "text/plain": [
       "207"
      ]
     },
     "execution_count": 133,
     "metadata": {},
     "output_type": "execute_result"
    }
   ],
   "source": [
    "sum((y_test == True) & (y_pred == True))"
   ]
  },
  {
   "cell_type": "code",
   "execution_count": 134,
   "id": "9a911e59-ae1e-47b2-b278-66fa2d99303e",
   "metadata": {},
   "outputs": [
    {
     "name": "stdout",
     "output_type": "stream",
     "text": [
      "Accuracy: 0.50\n"
     ]
    }
   ],
   "source": [
    "# Print the accuracy\n",
    "print(f\"Accuracy: {accuracy:.2f}\")\n"
   ]
  },
  {
   "cell_type": "code",
   "execution_count": 135,
   "id": "c673648a-5f6a-40a7-b9c9-94fe4da0e7ea",
   "metadata": {},
   "outputs": [],
   "source": [
    "# Print the information gain\n",
    "#scores = mutual_info_classif(X_train, y_train)\n",
    "#for i in range(len(scores)):\n",
    "#  print(f\"Score: {np.round(scores[i],4)} Feature {metrics[i]}: {coeQtls.columns[metrics[i]]}\")\n",
    "\n",
    "# Compute the confusion matrix\n",
    "cm = confusion_matrix(y_test, y_pred)"
   ]
  },
  {
   "cell_type": "code",
   "execution_count": 136,
   "id": "f30679b1-aba7-43eb-a2ef-9cf5edbba1e0",
   "metadata": {},
   "outputs": [
    {
     "data": {
      "text/plain": [
       "array([[3034503, 3030560],\n",
       "       [      1,     207]])"
      ]
     },
     "execution_count": 136,
     "metadata": {},
     "output_type": "execute_result"
    }
   ],
   "source": [
    "cm"
   ]
  },
  {
   "cell_type": "code",
   "execution_count": 137,
   "id": "29917feb-bbb4-4024-a285-08baaf9fe73e",
   "metadata": {},
   "outputs": [],
   "source": [
    "# Compute the accuracy for each class\n",
    "accuracies = cm.diagonal() / cm.sum(axis=1)\n"
   ]
  },
  {
   "cell_type": "code",
   "execution_count": 138,
   "id": "4be5c7e8-10b0-4d35-96bb-5f29a963c34a",
   "metadata": {},
   "outputs": [
    {
     "name": "stdout",
     "output_type": "stream",
     "text": [
      "Accuracy for class 0: 0.50\n",
      "Accuracy for class 1: 1.00\n"
     ]
    }
   ],
   "source": [
    "# Print the accuracies\n",
    "for i, accuracy in enumerate(accuracies):\n",
    "    print(f\"Accuracy for class {i}: {accuracy:.2f}\")"
   ]
  },
  {
   "cell_type": "code",
   "execution_count": null,
   "id": "7eb2984f-c5da-4ba6-add2-81bc629da48f",
   "metadata": {},
   "outputs": [],
   "source": []
  },
  {
   "cell_type": "code",
   "execution_count": null,
   "id": "913f333f-4923-4f68-a414-fcbb87a6c9e9",
   "metadata": {},
   "outputs": [],
   "source": []
  },
  {
   "cell_type": "code",
   "execution_count": null,
   "id": "09d2a434-b0e8-474d-919b-bf3b2ef1bc7a",
   "metadata": {},
   "outputs": [],
   "source": []
  }
 ],
 "metadata": {
  "kernelspec": {
   "display_name": "Python 3 (ipykernel)",
   "language": "python",
   "name": "python3"
  },
  "language_info": {
   "codemirror_mode": {
    "name": "ipython",
    "version": 3
   },
   "file_extension": ".py",
   "mimetype": "text/x-python",
   "name": "python",
   "nbconvert_exporter": "python",
   "pygments_lexer": "ipython3",
   "version": "3.9.6"
  }
 },
 "nbformat": 4,
 "nbformat_minor": 5
}
